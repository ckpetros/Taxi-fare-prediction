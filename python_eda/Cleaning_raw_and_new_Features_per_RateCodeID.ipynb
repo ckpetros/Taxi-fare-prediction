{
 "cells": [
  {
   "cell_type": "code",
   "execution_count": 4,
   "metadata": {},
   "outputs": [],
   "source": [
    "import numpy as np\n",
    "import pandas as pd\n",
    "import datetime\n",
    "import time\n",
    "from pandas.tseries.holiday import USFederalHolidayCalendar\n",
    "from sklearn import datasets, linear_model\n",
    "from sklearn.model_selection import train_test_split\n",
    "import gc\n",
    "import matplotlib.pyplot as plt\n",
    "pd.set_option('display.float_format', lambda x: '%.3f' % x)"
   ]
  },
  {
   "cell_type": "code",
   "execution_count": 124,
   "metadata": {},
   "outputs": [
    {
     "data": {
      "text/plain": [
       "'C:\\\\Users\\\\Petro Ck\\\\OneDrive\\\\Task 2\\\\_petro'"
      ]
     },
     "execution_count": 124,
     "metadata": {},
     "output_type": "execute_result"
    }
   ],
   "source": [
    "pwd"
   ]
  },
  {
   "cell_type": "code",
   "execution_count": 281,
   "metadata": {},
   "outputs": [],
   "source": [
    "taxi = pd.read_table(\"C:/Users/Petro Ck/OneDrive/Task 2/data/train_raw_and_new_features.csv\", sep = \",\")"
   ]
  },
  {
   "cell_type": "code",
   "execution_count": 125,
   "metadata": {},
   "outputs": [
    {
     "data": {
      "text/plain": [
       "Index(['INDEX', 'VendorID', 'tpep_pickup_datetime', 'tpep_dropoff_datetime',\n",
       "       'passenger_count', 'trip_distance', 'pickup_longitude',\n",
       "       'pickup_latitude', 'RatecodeID', 'store_and_fwd_flag',\n",
       "       'dropoff_longitude', 'dropoff_latitude', 'payment_type', 'fare_amount',\n",
       "       'extra', 'mta_tax', 'tip_amount', 'tolls_amount',\n",
       "       'improvement_surcharge', 'total_amount', 'trip_duration',\n",
       "       'average_speed', 'night_trip', 'rush_hour'],\n",
       "      dtype='object')"
      ]
     },
     "execution_count": 125,
     "metadata": {},
     "output_type": "execute_result"
    }
   ],
   "source": [
    "taxi.columns"
   ]
  },
  {
   "cell_type": "code",
   "execution_count": 126,
   "metadata": {},
   "outputs": [],
   "source": [
    "taxi[\"trip_duration\"] = taxi[\"trip_duration\"]/60"
   ]
  },
  {
   "cell_type": "code",
   "execution_count": 128,
   "metadata": {},
   "outputs": [
    {
     "data": {
      "text/plain": [
       "540"
      ]
     },
     "execution_count": 128,
     "metadata": {},
     "output_type": "execute_result"
    }
   ],
   "source": [
    "gc.collect()"
   ]
  },
  {
   "cell_type": "code",
   "execution_count": 282,
   "metadata": {
    "scrolled": true
   },
   "outputs": [
    {
     "data": {
      "text/html": [
       "<div>\n",
       "<style scoped>\n",
       "    .dataframe tbody tr th:only-of-type {\n",
       "        vertical-align: middle;\n",
       "    }\n",
       "\n",
       "    .dataframe tbody tr th {\n",
       "        vertical-align: top;\n",
       "    }\n",
       "\n",
       "    .dataframe thead th {\n",
       "        text-align: right;\n",
       "    }\n",
       "</style>\n",
       "<table border=\"1\" class=\"dataframe\">\n",
       "  <thead>\n",
       "    <tr style=\"text-align: right;\">\n",
       "      <th></th>\n",
       "      <th>INDEX</th>\n",
       "      <th>VendorID</th>\n",
       "      <th>passenger_count</th>\n",
       "      <th>trip_distance</th>\n",
       "      <th>pickup_longitude</th>\n",
       "      <th>pickup_latitude</th>\n",
       "      <th>RatecodeID</th>\n",
       "      <th>dropoff_longitude</th>\n",
       "      <th>dropoff_latitude</th>\n",
       "      <th>payment_type</th>\n",
       "      <th>...</th>\n",
       "      <th>extra</th>\n",
       "      <th>mta_tax</th>\n",
       "      <th>tip_amount</th>\n",
       "      <th>tolls_amount</th>\n",
       "      <th>improvement_surcharge</th>\n",
       "      <th>total_amount</th>\n",
       "      <th>trip_duration</th>\n",
       "      <th>average_speed</th>\n",
       "      <th>night_trip</th>\n",
       "      <th>rush_hour</th>\n",
       "    </tr>\n",
       "  </thead>\n",
       "  <tbody>\n",
       "    <tr>\n",
       "      <th>count</th>\n",
       "      <td>11082242.000</td>\n",
       "      <td>11082242.000</td>\n",
       "      <td>11082242.000</td>\n",
       "      <td>11082242.000</td>\n",
       "      <td>11082242.000</td>\n",
       "      <td>11082242.000</td>\n",
       "      <td>11082242.000</td>\n",
       "      <td>11082242.000</td>\n",
       "      <td>11082242.000</td>\n",
       "      <td>11082242.000</td>\n",
       "      <td>...</td>\n",
       "      <td>11082242.000</td>\n",
       "      <td>11082242.000</td>\n",
       "      <td>11082242.000</td>\n",
       "      <td>11082242.000</td>\n",
       "      <td>11082242.000</td>\n",
       "      <td>11082242.000</td>\n",
       "      <td>11082242.000</td>\n",
       "      <td>11082242.000</td>\n",
       "      <td>11082242.000</td>\n",
       "      <td>11082242.000</td>\n",
       "    </tr>\n",
       "    <tr>\n",
       "      <th>mean</th>\n",
       "      <td>5567917.248</td>\n",
       "      <td>1.530</td>\n",
       "      <td>1.658</td>\n",
       "      <td>3.017</td>\n",
       "      <td>-73.060</td>\n",
       "      <td>40.248</td>\n",
       "      <td>1.040</td>\n",
       "      <td>-73.199</td>\n",
       "      <td>40.325</td>\n",
       "      <td>1.348</td>\n",
       "      <td>...</td>\n",
       "      <td>0.340</td>\n",
       "      <td>0.498</td>\n",
       "      <td>1.836</td>\n",
       "      <td>0.335</td>\n",
       "      <td>0.300</td>\n",
       "      <td>16.621</td>\n",
       "      <td>885.151</td>\n",
       "      <td>11.464</td>\n",
       "      <td>0.343</td>\n",
       "      <td>0.167</td>\n",
       "    </tr>\n",
       "    <tr>\n",
       "      <th>std</th>\n",
       "      <td>3214889.718</td>\n",
       "      <td>0.499</td>\n",
       "      <td>1.303</td>\n",
       "      <td>3.670</td>\n",
       "      <td>8.166</td>\n",
       "      <td>4.499</td>\n",
       "      <td>0.388</td>\n",
       "      <td>7.527</td>\n",
       "      <td>4.146</td>\n",
       "      <td>0.493</td>\n",
       "      <td>...</td>\n",
       "      <td>0.486</td>\n",
       "      <td>0.043</td>\n",
       "      <td>2.653</td>\n",
       "      <td>1.665</td>\n",
       "      <td>0.013</td>\n",
       "      <td>58.450</td>\n",
       "      <td>698.632</td>\n",
       "      <td>6.163</td>\n",
       "      <td>0.475</td>\n",
       "      <td>0.373</td>\n",
       "    </tr>\n",
       "    <tr>\n",
       "      <th>min</th>\n",
       "      <td>0.000</td>\n",
       "      <td>1.000</td>\n",
       "      <td>0.000</td>\n",
       "      <td>0.000</td>\n",
       "      <td>-118.186</td>\n",
       "      <td>0.000</td>\n",
       "      <td>1.000</td>\n",
       "      <td>-118.186</td>\n",
       "      <td>0.000</td>\n",
       "      <td>1.000</td>\n",
       "      <td>...</td>\n",
       "      <td>-41.230</td>\n",
       "      <td>-2.700</td>\n",
       "      <td>-67.700</td>\n",
       "      <td>-12.500</td>\n",
       "      <td>-0.300</td>\n",
       "      <td>-450.800</td>\n",
       "      <td>1.000</td>\n",
       "      <td>0.000</td>\n",
       "      <td>0.000</td>\n",
       "      <td>0.000</td>\n",
       "    </tr>\n",
       "    <tr>\n",
       "      <th>25%</th>\n",
       "      <td>2783378.250</td>\n",
       "      <td>1.000</td>\n",
       "      <td>1.000</td>\n",
       "      <td>1.000</td>\n",
       "      <td>-73.992</td>\n",
       "      <td>40.737</td>\n",
       "      <td>1.000</td>\n",
       "      <td>-73.991</td>\n",
       "      <td>40.735</td>\n",
       "      <td>1.000</td>\n",
       "      <td>...</td>\n",
       "      <td>0.000</td>\n",
       "      <td>0.500</td>\n",
       "      <td>0.000</td>\n",
       "      <td>0.000</td>\n",
       "      <td>0.300</td>\n",
       "      <td>8.800</td>\n",
       "      <td>412.000</td>\n",
       "      <td>7.356</td>\n",
       "      <td>0.000</td>\n",
       "      <td>0.000</td>\n",
       "    </tr>\n",
       "    <tr>\n",
       "      <th>50%</th>\n",
       "      <td>5567696.500</td>\n",
       "      <td>2.000</td>\n",
       "      <td>1.000</td>\n",
       "      <td>1.710</td>\n",
       "      <td>-73.981</td>\n",
       "      <td>40.754</td>\n",
       "      <td>1.000</td>\n",
       "      <td>-73.979</td>\n",
       "      <td>40.754</td>\n",
       "      <td>1.000</td>\n",
       "      <td>...</td>\n",
       "      <td>0.000</td>\n",
       "      <td>0.500</td>\n",
       "      <td>1.350</td>\n",
       "      <td>0.000</td>\n",
       "      <td>0.300</td>\n",
       "      <td>12.300</td>\n",
       "      <td>693.000</td>\n",
       "      <td>10.206</td>\n",
       "      <td>0.000</td>\n",
       "      <td>0.000</td>\n",
       "    </tr>\n",
       "    <tr>\n",
       "      <th>75%</th>\n",
       "      <td>8352607.750</td>\n",
       "      <td>2.000</td>\n",
       "      <td>2.000</td>\n",
       "      <td>3.220</td>\n",
       "      <td>-73.966</td>\n",
       "      <td>40.768</td>\n",
       "      <td>1.000</td>\n",
       "      <td>-73.962</td>\n",
       "      <td>40.770</td>\n",
       "      <td>2.000</td>\n",
       "      <td>...</td>\n",
       "      <td>0.500</td>\n",
       "      <td>0.500</td>\n",
       "      <td>2.460</td>\n",
       "      <td>0.000</td>\n",
       "      <td>0.300</td>\n",
       "      <td>18.360</td>\n",
       "      <td>1137.000</td>\n",
       "      <td>13.978</td>\n",
       "      <td>1.000</td>\n",
       "      <td>0.000</td>\n",
       "    </tr>\n",
       "    <tr>\n",
       "      <th>max</th>\n",
       "      <td>11135469.000</td>\n",
       "      <td>2.000</td>\n",
       "      <td>9.000</td>\n",
       "      <td>72.140</td>\n",
       "      <td>0.000</td>\n",
       "      <td>64.096</td>\n",
       "      <td>99.000</td>\n",
       "      <td>106.247</td>\n",
       "      <td>60.041</td>\n",
       "      <td>5.000</td>\n",
       "      <td>...</td>\n",
       "      <td>597.920</td>\n",
       "      <td>60.350</td>\n",
       "      <td>854.850</td>\n",
       "      <td>905.540</td>\n",
       "      <td>0.940</td>\n",
       "      <td>187442.260</td>\n",
       "      <td>5400.000</td>\n",
       "      <td>50.000</td>\n",
       "      <td>1.000</td>\n",
       "      <td>1.000</td>\n",
       "    </tr>\n",
       "  </tbody>\n",
       "</table>\n",
       "<p>8 rows × 21 columns</p>\n",
       "</div>"
      ],
      "text/plain": [
       "             INDEX     VendorID  passenger_count  trip_distance  \\\n",
       "count 11082242.000 11082242.000     11082242.000   11082242.000   \n",
       "mean   5567917.248        1.530            1.658          3.017   \n",
       "std    3214889.718        0.499            1.303          3.670   \n",
       "min          0.000        1.000            0.000          0.000   \n",
       "25%    2783378.250        1.000            1.000          1.000   \n",
       "50%    5567696.500        2.000            1.000          1.710   \n",
       "75%    8352607.750        2.000            2.000          3.220   \n",
       "max   11135469.000        2.000            9.000         72.140   \n",
       "\n",
       "       pickup_longitude  pickup_latitude   RatecodeID  dropoff_longitude  \\\n",
       "count      11082242.000     11082242.000 11082242.000       11082242.000   \n",
       "mean            -73.060           40.248        1.040            -73.199   \n",
       "std               8.166            4.499        0.388              7.527   \n",
       "min            -118.186            0.000        1.000           -118.186   \n",
       "25%             -73.992           40.737        1.000            -73.991   \n",
       "50%             -73.981           40.754        1.000            -73.979   \n",
       "75%             -73.966           40.768        1.000            -73.962   \n",
       "max               0.000           64.096       99.000            106.247   \n",
       "\n",
       "       dropoff_latitude  payment_type     ...             extra      mta_tax  \\\n",
       "count      11082242.000  11082242.000     ...      11082242.000 11082242.000   \n",
       "mean             40.325         1.348     ...             0.340        0.498   \n",
       "std               4.146         0.493     ...             0.486        0.043   \n",
       "min               0.000         1.000     ...           -41.230       -2.700   \n",
       "25%              40.735         1.000     ...             0.000        0.500   \n",
       "50%              40.754         1.000     ...             0.000        0.500   \n",
       "75%              40.770         2.000     ...             0.500        0.500   \n",
       "max              60.041         5.000     ...           597.920       60.350   \n",
       "\n",
       "        tip_amount  tolls_amount  improvement_surcharge  total_amount  \\\n",
       "count 11082242.000  11082242.000           11082242.000  11082242.000   \n",
       "mean         1.836         0.335                  0.300        16.621   \n",
       "std          2.653         1.665                  0.013        58.450   \n",
       "min        -67.700       -12.500                 -0.300      -450.800   \n",
       "25%          0.000         0.000                  0.300         8.800   \n",
       "50%          1.350         0.000                  0.300        12.300   \n",
       "75%          2.460         0.000                  0.300        18.360   \n",
       "max        854.850       905.540                  0.940    187442.260   \n",
       "\n",
       "       trip_duration  average_speed   night_trip    rush_hour  \n",
       "count   11082242.000   11082242.000 11082242.000 11082242.000  \n",
       "mean         885.151         11.464        0.343        0.167  \n",
       "std          698.632          6.163        0.475        0.373  \n",
       "min            1.000          0.000        0.000        0.000  \n",
       "25%          412.000          7.356        0.000        0.000  \n",
       "50%          693.000         10.206        0.000        0.000  \n",
       "75%         1137.000         13.978        1.000        0.000  \n",
       "max         5400.000         50.000        1.000        1.000  \n",
       "\n",
       "[8 rows x 21 columns]"
      ]
     },
     "execution_count": 282,
     "metadata": {},
     "output_type": "execute_result"
    }
   ],
   "source": [
    "taxi.describe()"
   ]
  },
  {
   "cell_type": "markdown",
   "metadata": {},
   "source": [
    "## There are 11082242 in the raw dataset."
   ]
  },
  {
   "cell_type": "code",
   "execution_count": 130,
   "metadata": {},
   "outputs": [],
   "source": [
    "all_vars = set(i for i in taxi.columns)\n",
    "list_var_test = list(taxi_test.columns)\n",
    "list_var_test.append( \"total_amount\")\n",
    "var_test = set(i for i in list_var_test)\n",
    "# Give variables that are in train but not in test #\n",
    "var_missing = all_vars - var_test\n",
    "var_missing\n",
    "var_missing = list(var_missing)\n",
    "taxi.drop(var_missing, axis = 1, inplace= True)"
   ]
  },
  {
   "cell_type": "code",
   "execution_count": 131,
   "metadata": {},
   "outputs": [],
   "source": [
    "taxi.drop(\"INDEX\", axis = 1, inplace= True)"
   ]
  },
  {
   "cell_type": "code",
   "execution_count": 132,
   "metadata": {},
   "outputs": [],
   "source": [
    "taxi[\"tpep_pickup_datetime\"] = pd.to_datetime(taxi[\"tpep_pickup_datetime\"])\n",
    "taxi[\"tpep_dropoff_datetime\"] = pd.to_datetime(taxi[\"tpep_dropoff_datetime\"])"
   ]
  },
  {
   "cell_type": "code",
   "execution_count": 133,
   "metadata": {},
   "outputs": [],
   "source": [
    "taxi = taxi[(taxi.RatecodeID !=6) & (taxi.RatecodeID !=99)] # Since they are not in test set"
   ]
  },
  {
   "cell_type": "markdown",
   "metadata": {},
   "source": [
    "Adjust coordinates to test set:"
   ]
  },
  {
   "cell_type": "code",
   "execution_count": 136,
   "metadata": {},
   "outputs": [],
   "source": [
    "taxi = taxi[(taxi[\"pickup_latitude\"] > 35) \n",
    "    & (taxi[\"pickup_latitude\"] < 45)\n",
    "    & (taxi[\"pickup_longitude\"] > -80) \n",
    "    & (taxi[\"pickup_longitude\"] < -70)\n",
    "    & (taxi[\"dropoff_latitude\"] > 35) \n",
    "    & (taxi[\"dropoff_latitude\"] < 45)\n",
    "    & (taxi[\"dropoff_longitude\"] > -80) \n",
    "    & (taxi[\"dropoff_longitude\"] < -70)]"
   ]
  },
  {
   "cell_type": "code",
   "execution_count": 152,
   "metadata": {},
   "outputs": [],
   "source": [
    "taxi = taxi[(taxi[\"payment_type\"] != 5) ]"
   ]
  },
  {
   "cell_type": "code",
   "execution_count": 137,
   "metadata": {},
   "outputs": [],
   "source": [
    "rc1 = taxi[taxi[\"RatecodeID\"]==1]\n",
    "rc2 = taxi[taxi[\"RatecodeID\"]==2]\n",
    "rc3 = taxi[taxi[\"RatecodeID\"]==3]\n",
    "rc4 = taxi[taxi[\"RatecodeID\"]==4]\n",
    "rc5 = taxi[taxi[\"RatecodeID\"]==5]"
   ]
  },
  {
   "cell_type": "code",
   "execution_count": 160,
   "metadata": {},
   "outputs": [
    {
     "data": {
      "text/plain": [
       "Index(['VendorID', 'tpep_pickup_datetime', 'tpep_dropoff_datetime',\n",
       "       'passenger_count', 'trip_distance', 'pickup_longitude',\n",
       "       'pickup_latitude', 'RatecodeID', 'store_and_fwd_flag',\n",
       "       'dropoff_longitude', 'dropoff_latitude', 'payment_type', 'tolls_amount',\n",
       "       'improvement_surcharge', 'total_amount', 'trip_duration',\n",
       "       'average_speed', 'night_trip', 'rush_hour'],\n",
       "      dtype='object')"
      ]
     },
     "execution_count": 160,
     "metadata": {},
     "output_type": "execute_result"
    }
   ],
   "source": [
    "rc1.columns"
   ]
  },
  {
   "cell_type": "code",
   "execution_count": 162,
   "metadata": {},
   "outputs": [
    {
     "data": {
      "text/plain": [
       "Int64Index([       0,        1,        2,        3,        4,        5,\n",
       "                   6,        7,        8,        9,\n",
       "            ...\n",
       "            11082232, 11082233, 11082234, 11082235, 11082236, 11082237,\n",
       "            11082238, 11082239, 11082240, 11082241],\n",
       "           dtype='int64', length=10940301)"
      ]
     },
     "execution_count": 162,
     "metadata": {},
     "output_type": "execute_result"
    }
   ],
   "source": [
    "taxi.index"
   ]
  },
  {
   "cell_type": "code",
   "execution_count": null,
   "metadata": {},
   "outputs": [],
   "source": []
  },
  {
   "cell_type": "code",
   "execution_count": 138,
   "metadata": {},
   "outputs": [
    {
     "data": {
      "text/plain": [
       "626"
      ]
     },
     "execution_count": 138,
     "metadata": {},
     "output_type": "execute_result"
    }
   ],
   "source": [
    "gc.collect()"
   ]
  },
  {
   "cell_type": "markdown",
   "metadata": {},
   "source": [
    "# RateCodeID 1"
   ]
  },
  {
   "cell_type": "code",
   "execution_count": 139,
   "metadata": {
    "scrolled": false
   },
   "outputs": [
    {
     "data": {
      "text/html": [
       "<div>\n",
       "<style scoped>\n",
       "    .dataframe tbody tr th:only-of-type {\n",
       "        vertical-align: middle;\n",
       "    }\n",
       "\n",
       "    .dataframe tbody tr th {\n",
       "        vertical-align: top;\n",
       "    }\n",
       "\n",
       "    .dataframe thead th {\n",
       "        text-align: right;\n",
       "    }\n",
       "</style>\n",
       "<table border=\"1\" class=\"dataframe\">\n",
       "  <thead>\n",
       "    <tr style=\"text-align: right;\">\n",
       "      <th></th>\n",
       "      <th>VendorID</th>\n",
       "      <th>passenger_count</th>\n",
       "      <th>trip_distance</th>\n",
       "      <th>pickup_longitude</th>\n",
       "      <th>pickup_latitude</th>\n",
       "      <th>RatecodeID</th>\n",
       "      <th>dropoff_longitude</th>\n",
       "      <th>dropoff_latitude</th>\n",
       "      <th>payment_type</th>\n",
       "      <th>tolls_amount</th>\n",
       "      <th>improvement_surcharge</th>\n",
       "      <th>total_amount</th>\n",
       "      <th>trip_duration</th>\n",
       "      <th>average_speed</th>\n",
       "      <th>night_trip</th>\n",
       "      <th>rush_hour</th>\n",
       "    </tr>\n",
       "  </thead>\n",
       "  <tbody>\n",
       "    <tr>\n",
       "      <th>count</th>\n",
       "      <td>10648073.000</td>\n",
       "      <td>10648073.000</td>\n",
       "      <td>10648073.000</td>\n",
       "      <td>10648073.000</td>\n",
       "      <td>10648073.000</td>\n",
       "      <td>10648073.000</td>\n",
       "      <td>10648073.000</td>\n",
       "      <td>10648073.000</td>\n",
       "      <td>10648073.000</td>\n",
       "      <td>10648073.000</td>\n",
       "      <td>10648073.000</td>\n",
       "      <td>10648073.000</td>\n",
       "      <td>10648073.000</td>\n",
       "      <td>10648073.000</td>\n",
       "      <td>10648073.000</td>\n",
       "      <td>10648073.000</td>\n",
       "    </tr>\n",
       "    <tr>\n",
       "      <th>mean</th>\n",
       "      <td>1.531</td>\n",
       "      <td>1.658</td>\n",
       "      <td>2.655</td>\n",
       "      <td>-73.976</td>\n",
       "      <td>40.752</td>\n",
       "      <td>1.000</td>\n",
       "      <td>-73.974</td>\n",
       "      <td>40.753</td>\n",
       "      <td>1.348</td>\n",
       "      <td>0.209</td>\n",
       "      <td>0.300</td>\n",
       "      <td>15.195</td>\n",
       "      <td>13.960</td>\n",
       "      <td>11.167</td>\n",
       "      <td>0.345</td>\n",
       "      <td>0.166</td>\n",
       "    </tr>\n",
       "    <tr>\n",
       "      <th>std</th>\n",
       "      <td>0.499</td>\n",
       "      <td>1.305</td>\n",
       "      <td>2.788</td>\n",
       "      <td>0.035</td>\n",
       "      <td>0.027</td>\n",
       "      <td>0.000</td>\n",
       "      <td>0.033</td>\n",
       "      <td>0.032</td>\n",
       "      <td>0.492</td>\n",
       "      <td>1.221</td>\n",
       "      <td>0.012</td>\n",
       "      <td>58.368</td>\n",
       "      <td>10.136</td>\n",
       "      <td>5.679</td>\n",
       "      <td>0.475</td>\n",
       "      <td>0.372</td>\n",
       "    </tr>\n",
       "    <tr>\n",
       "      <th>min</th>\n",
       "      <td>1.000</td>\n",
       "      <td>0.000</td>\n",
       "      <td>0.000</td>\n",
       "      <td>-79.289</td>\n",
       "      <td>35.263</td>\n",
       "      <td>1.000</td>\n",
       "      <td>-79.419</td>\n",
       "      <td>35.739</td>\n",
       "      <td>1.000</td>\n",
       "      <td>-5.540</td>\n",
       "      <td>-0.300</td>\n",
       "      <td>-53.980</td>\n",
       "      <td>0.017</td>\n",
       "      <td>0.000</td>\n",
       "      <td>0.000</td>\n",
       "      <td>0.000</td>\n",
       "    </tr>\n",
       "    <tr>\n",
       "      <th>25%</th>\n",
       "      <td>1.000</td>\n",
       "      <td>1.000</td>\n",
       "      <td>1.000</td>\n",
       "      <td>-73.992</td>\n",
       "      <td>40.738</td>\n",
       "      <td>1.000</td>\n",
       "      <td>-73.991</td>\n",
       "      <td>40.737</td>\n",
       "      <td>1.000</td>\n",
       "      <td>0.000</td>\n",
       "      <td>0.300</td>\n",
       "      <td>8.760</td>\n",
       "      <td>6.800</td>\n",
       "      <td>7.312</td>\n",
       "      <td>0.000</td>\n",
       "      <td>0.000</td>\n",
       "    </tr>\n",
       "    <tr>\n",
       "      <th>50%</th>\n",
       "      <td>2.000</td>\n",
       "      <td>1.000</td>\n",
       "      <td>1.700</td>\n",
       "      <td>-73.982</td>\n",
       "      <td>40.755</td>\n",
       "      <td>1.000</td>\n",
       "      <td>-73.980</td>\n",
       "      <td>40.755</td>\n",
       "      <td>1.000</td>\n",
       "      <td>0.000</td>\n",
       "      <td>0.300</td>\n",
       "      <td>12.000</td>\n",
       "      <td>11.317</td>\n",
       "      <td>10.082</td>\n",
       "      <td>0.000</td>\n",
       "      <td>0.000</td>\n",
       "    </tr>\n",
       "    <tr>\n",
       "      <th>75%</th>\n",
       "      <td>2.000</td>\n",
       "      <td>2.000</td>\n",
       "      <td>3.060</td>\n",
       "      <td>-73.968</td>\n",
       "      <td>40.769</td>\n",
       "      <td>1.000</td>\n",
       "      <td>-73.963</td>\n",
       "      <td>40.770</td>\n",
       "      <td>2.000</td>\n",
       "      <td>0.000</td>\n",
       "      <td>0.300</td>\n",
       "      <td>17.760</td>\n",
       "      <td>18.250</td>\n",
       "      <td>13.649</td>\n",
       "      <td>1.000</td>\n",
       "      <td>0.000</td>\n",
       "    </tr>\n",
       "    <tr>\n",
       "      <th>max</th>\n",
       "      <td>2.000</td>\n",
       "      <td>9.000</td>\n",
       "      <td>65.400</td>\n",
       "      <td>-70.268</td>\n",
       "      <td>44.746</td>\n",
       "      <td>1.000</td>\n",
       "      <td>-70.169</td>\n",
       "      <td>44.955</td>\n",
       "      <td>5.000</td>\n",
       "      <td>585.580</td>\n",
       "      <td>0.300</td>\n",
       "      <td>187442.260</td>\n",
       "      <td>90.000</td>\n",
       "      <td>50.000</td>\n",
       "      <td>1.000</td>\n",
       "      <td>1.000</td>\n",
       "    </tr>\n",
       "  </tbody>\n",
       "</table>\n",
       "</div>"
      ],
      "text/plain": [
       "          VendorID  passenger_count  trip_distance  pickup_longitude  \\\n",
       "count 10648073.000     10648073.000   10648073.000      10648073.000   \n",
       "mean         1.531            1.658          2.655           -73.976   \n",
       "std          0.499            1.305          2.788             0.035   \n",
       "min          1.000            0.000          0.000           -79.289   \n",
       "25%          1.000            1.000          1.000           -73.992   \n",
       "50%          2.000            1.000          1.700           -73.982   \n",
       "75%          2.000            2.000          3.060           -73.968   \n",
       "max          2.000            9.000         65.400           -70.268   \n",
       "\n",
       "       pickup_latitude   RatecodeID  dropoff_longitude  dropoff_latitude  \\\n",
       "count     10648073.000 10648073.000       10648073.000      10648073.000   \n",
       "mean            40.752        1.000            -73.974            40.753   \n",
       "std              0.027        0.000              0.033             0.032   \n",
       "min             35.263        1.000            -79.419            35.739   \n",
       "25%             40.738        1.000            -73.991            40.737   \n",
       "50%             40.755        1.000            -73.980            40.755   \n",
       "75%             40.769        1.000            -73.963            40.770   \n",
       "max             44.746        1.000            -70.169            44.955   \n",
       "\n",
       "       payment_type  tolls_amount  improvement_surcharge  total_amount  \\\n",
       "count  10648073.000  10648073.000           10648073.000  10648073.000   \n",
       "mean          1.348         0.209                  0.300        15.195   \n",
       "std           0.492         1.221                  0.012        58.368   \n",
       "min           1.000        -5.540                 -0.300       -53.980   \n",
       "25%           1.000         0.000                  0.300         8.760   \n",
       "50%           1.000         0.000                  0.300        12.000   \n",
       "75%           2.000         0.000                  0.300        17.760   \n",
       "max           5.000       585.580                  0.300    187442.260   \n",
       "\n",
       "       trip_duration  average_speed   night_trip    rush_hour  \n",
       "count   10648073.000   10648073.000 10648073.000 10648073.000  \n",
       "mean          13.960         11.167        0.345        0.166  \n",
       "std           10.136          5.679        0.475        0.372  \n",
       "min            0.017          0.000        0.000        0.000  \n",
       "25%            6.800          7.312        0.000        0.000  \n",
       "50%           11.317         10.082        0.000        0.000  \n",
       "75%           18.250         13.649        1.000        0.000  \n",
       "max           90.000         50.000        1.000        1.000  "
      ]
     },
     "execution_count": 139,
     "metadata": {},
     "output_type": "execute_result"
    }
   ],
   "source": [
    "rc1.describe()"
   ]
  },
  {
   "cell_type": "markdown",
   "metadata": {},
   "source": [
    "This is the most impactful RateCodeID as it has the most observations"
   ]
  },
  {
   "cell_type": "markdown",
   "metadata": {},
   "source": [
    "## Variable \"trip_distance\""
   ]
  },
  {
   "cell_type": "code",
   "execution_count": 99,
   "metadata": {},
   "outputs": [
    {
     "data": {
      "text/plain": [
       "count   10778858.000\n",
       "mean           2.653\n",
       "std            2.787\n",
       "min            0.000\n",
       "25%            1.000\n",
       "50%            1.700\n",
       "75%            3.060\n",
       "max           65.400\n",
       "Name: trip_distance, dtype: float64"
      ]
     },
     "execution_count": 99,
     "metadata": {},
     "output_type": "execute_result"
    }
   ],
   "source": [
    "rc1[\"trip_distance\"].describe()"
   ]
  },
  {
   "cell_type": "code",
   "execution_count": 140,
   "metadata": {},
   "outputs": [
    {
     "data": {
      "text/plain": [
       "20.61"
      ]
     },
     "execution_count": 140,
     "metadata": {},
     "output_type": "execute_result"
    }
   ],
   "source": [
    "rc1[\"trip_distance\"].quantile(0.999)"
   ]
  },
  {
   "cell_type": "code",
   "execution_count": 141,
   "metadata": {
    "scrolled": true
   },
   "outputs": [
    {
     "data": {
      "text/plain": [
       "VendorID                 10666\n",
       "tpep_pickup_datetime     10666\n",
       "tpep_dropoff_datetime    10666\n",
       "passenger_count          10666\n",
       "trip_distance            10666\n",
       "pickup_longitude         10666\n",
       "pickup_latitude          10666\n",
       "RatecodeID               10666\n",
       "store_and_fwd_flag       10666\n",
       "dropoff_longitude        10666\n",
       "dropoff_latitude         10666\n",
       "payment_type             10666\n",
       "tolls_amount             10666\n",
       "improvement_surcharge    10666\n",
       "total_amount             10666\n",
       "trip_duration            10666\n",
       "average_speed            10666\n",
       "night_trip               10666\n",
       "rush_hour                10666\n",
       "dtype: int64"
      ]
     },
     "execution_count": 141,
     "metadata": {},
     "output_type": "execute_result"
    }
   ],
   "source": [
    "rc1[rc1.trip_distance >= rc1[\"trip_distance\"].quantile(0.999)].count() #10795. Cut these out"
   ]
  },
  {
   "cell_type": "code",
   "execution_count": 142,
   "metadata": {},
   "outputs": [],
   "source": [
    "rc1 = rc1[rc1.trip_distance <= rc1[\"trip_distance\"].quantile(0.999)]"
   ]
  },
  {
   "cell_type": "code",
   "execution_count": 143,
   "metadata": {},
   "outputs": [
    {
     "data": {
      "text/plain": [
       "<matplotlib.axes._subplots.AxesSubplot at 0x256e826cf28>"
      ]
     },
     "execution_count": 143,
     "metadata": {},
     "output_type": "execute_result"
    },
    {
     "data": {
      "image/png": "[encoded data removed]",
      "text/plain": [
       "<matplotlib.figure.Figure at 0x256ef0e5898>"
      ]
     },
     "metadata": {},
     "output_type": "display_data"
    }
   ],
   "source": [
    "select = np.random.randint(0, taxi.shape[0], 100000000)\n",
    "test_data = taxi[\"trip_distance\"].iloc[select]\n",
    "test_data.hist()"
   ]
  },
  {
   "cell_type": "markdown",
   "metadata": {},
   "source": [
    "Since the dataset was too big I just ploted some randomly chosen variables. We see here that we have most obeservations are below 5 miles which makes sense for a ride within New York. <br> Let's have a short look at the rides below 5 miles:"
   ]
  },
  {
   "cell_type": "code",
   "execution_count": 145,
   "metadata": {
    "scrolled": true
   },
   "outputs": [
    {
     "data": {
      "text/plain": [
       "<matplotlib.axes._subplots.AxesSubplot at 0x2570495f6d8>"
      ]
     },
     "execution_count": 145,
     "metadata": {},
     "output_type": "execute_result"
    },
    {
     "data": {
      "image/png": "[encoded data removed]",
      "text/plain": [
       "<matplotlib.figure.Figure at 0x256ecf89c50>"
      ]
     },
     "metadata": {},
     "output_type": "display_data"
    }
   ],
   "source": [
    "short_rides = rc1[\"trip_distance\"][rc1[\"trip_distance\"] < 10]\n",
    "select = np.random.randint(0, short_rides.shape[0], 100000)\n",
    "test_data = short_rides.iloc[select]\n",
    "test_data.plot.density()"
   ]
  },
  {
   "cell_type": "code",
   "execution_count": 147,
   "metadata": {},
   "outputs": [
    {
     "data": {
      "text/plain": [
       "VendorID                 0\n",
       "tpep_pickup_datetime     0\n",
       "tpep_dropoff_datetime    0\n",
       "passenger_count          0\n",
       "trip_distance            0\n",
       "pickup_longitude         0\n",
       "pickup_latitude          0\n",
       "RatecodeID               0\n",
       "store_and_fwd_flag       0\n",
       "dropoff_longitude        0\n",
       "dropoff_latitude         0\n",
       "payment_type             0\n",
       "tolls_amount             0\n",
       "improvement_surcharge    0\n",
       "total_amount             0\n",
       "trip_duration            0\n",
       "average_speed            0\n",
       "night_trip               0\n",
       "rush_hour                0\n",
       "dtype: int64"
      ]
     },
     "execution_count": 147,
     "metadata": {},
     "output_type": "execute_result"
    }
   ],
   "source": [
    "rc1[rc1.trip_distance <0].count() # We're good"
   ]
  },
  {
   "cell_type": "markdown",
   "metadata": {},
   "source": [
    "###### Remove negative trip distances:"
   ]
  },
  {
   "cell_type": "code",
   "execution_count": 151,
   "metadata": {},
   "outputs": [
    {
     "data": {
      "text/plain": [
       "VendorID                 0\n",
       "tpep_pickup_datetime     0\n",
       "tpep_dropoff_datetime    0\n",
       "passenger_count          0\n",
       "trip_distance            0\n",
       "pickup_longitude         0\n",
       "pickup_latitude          0\n",
       "RatecodeID               0\n",
       "store_and_fwd_flag       0\n",
       "dropoff_longitude        0\n",
       "dropoff_latitude         0\n",
       "payment_type             0\n",
       "tolls_amount             0\n",
       "improvement_surcharge    0\n",
       "total_amount             0\n",
       "trip_duration            0\n",
       "average_speed            0\n",
       "night_trip               0\n",
       "rush_hour                0\n",
       "dtype: int64"
      ]
     },
     "execution_count": 151,
     "metadata": {},
     "output_type": "execute_result"
    }
   ],
   "source": [
    "rc1[rc1.trip_distance <0].count() # We're good"
   ]
  },
  {
   "cell_type": "markdown",
   "metadata": {},
   "source": [
    "## Variable tolls amount"
   ]
  },
  {
   "cell_type": "code",
   "execution_count": 157,
   "metadata": {},
   "outputs": [
    {
     "data": {
      "text/plain": [
       "12.5"
      ]
     },
     "execution_count": 157,
     "metadata": {},
     "output_type": "execute_result"
    }
   ],
   "source": [
    "rc1[\"tolls_amount\"].quantile(0.9999)"
   ]
  },
  {
   "cell_type": "code",
   "execution_count": 158,
   "metadata": {},
   "outputs": [],
   "source": [
    "rc1 = rc1[rc1.tolls_amount < 12]"
   ]
  },
  {
   "cell_type": "code",
   "execution_count": 164,
   "metadata": {},
   "outputs": [
    {
     "data": {
      "text/plain": [
       "VendorID                 10636005\n",
       "tpep_pickup_datetime     10636005\n",
       "tpep_dropoff_datetime    10636005\n",
       "passenger_count          10636005\n",
       "trip_distance            10636005\n",
       "pickup_longitude         10636005\n",
       "pickup_latitude          10636005\n",
       "RatecodeID               10636005\n",
       "store_and_fwd_flag       10636005\n",
       "dropoff_longitude        10636005\n",
       "dropoff_latitude         10636005\n",
       "payment_type             10636005\n",
       "tolls_amount             10636005\n",
       "improvement_surcharge    10636005\n",
       "total_amount             10636005\n",
       "trip_duration            10636005\n",
       "average_speed            10636005\n",
       "night_trip               10636005\n",
       "rush_hour                10636005\n",
       "dtype: int64"
      ]
     },
     "execution_count": 164,
     "metadata": {},
     "output_type": "execute_result"
    }
   ],
   "source": [
    "rc1.count()"
   ]
  },
  {
   "cell_type": "code",
   "execution_count": 283,
   "metadata": {},
   "outputs": [
    {
     "data": {
      "text/plain": [
       "0.04026594979607917"
      ]
     },
     "execution_count": 283,
     "metadata": {},
     "output_type": "execute_result"
    }
   ],
   "source": [
    "(11082242 - 10636005)/11082242"
   ]
  },
  {
   "cell_type": "markdown",
   "metadata": {},
   "source": [
    "## Variable improvement_surcharge ##"
   ]
  },
  {
   "cell_type": "code",
   "execution_count": 167,
   "metadata": {},
   "outputs": [
    {
     "data": {
      "text/plain": [
       "VendorID                 3826\n",
       "tpep_pickup_datetime     3826\n",
       "tpep_dropoff_datetime    3826\n",
       "passenger_count          3826\n",
       "trip_distance            3826\n",
       "pickup_longitude         3826\n",
       "pickup_latitude          3826\n",
       "RatecodeID               3826\n",
       "store_and_fwd_flag       3826\n",
       "dropoff_longitude        3826\n",
       "dropoff_latitude         3826\n",
       "payment_type             3826\n",
       "tolls_amount             3826\n",
       "improvement_surcharge    3826\n",
       "total_amount             3826\n",
       "trip_duration            3826\n",
       "average_speed            3826\n",
       "night_trip               3826\n",
       "rush_hour                3826\n",
       "dtype: int64"
      ]
     },
     "execution_count": 167,
     "metadata": {},
     "output_type": "execute_result"
    }
   ],
   "source": [
    "rc1[rc1.improvement_surcharge < 0].count()"
   ]
  },
  {
   "cell_type": "code",
   "execution_count": 168,
   "metadata": {},
   "outputs": [],
   "source": [
    "rc1 = rc1[rc1.improvement_surcharge > 0]"
   ]
  },
  {
   "cell_type": "code",
   "execution_count": 170,
   "metadata": {},
   "outputs": [
    {
     "data": {
      "text/plain": [
       "0.100   0.300\n",
       "0.147   0.300\n",
       "0.195   0.300\n",
       "0.242   0.300\n",
       "0.289   0.300\n",
       "0.337   0.300\n",
       "0.384   0.300\n",
       "0.432   0.300\n",
       "0.479   0.300\n",
       "0.526   0.300\n",
       "0.574   0.300\n",
       "0.621   0.300\n",
       "0.668   0.300\n",
       "0.716   0.300\n",
       "0.763   0.300\n",
       "0.811   0.300\n",
       "0.858   0.300\n",
       "0.905   0.300\n",
       "0.953   0.300\n",
       "1.000   0.300\n",
       "Name: improvement_surcharge, dtype: float64"
      ]
     },
     "execution_count": 170,
     "metadata": {},
     "output_type": "execute_result"
    }
   ],
   "source": [
    "rc1[\"improvement_surcharge\"].quantile(np.linspace(0.1,1,20))"
   ]
  },
  {
   "cell_type": "markdown",
   "metadata": {},
   "source": [
    "# Variable total_amount ##"
   ]
  },
  {
   "cell_type": "code",
   "execution_count": 171,
   "metadata": {},
   "outputs": [
    {
     "data": {
      "text/plain": [
       "count   10631513.000\n",
       "mean          15.132\n",
       "std           58.368\n",
       "min            0.000\n",
       "25%            8.760\n",
       "50%           12.000\n",
       "75%           17.760\n",
       "max       187442.260\n",
       "Name: total_amount, dtype: float64"
      ]
     },
     "execution_count": 171,
     "metadata": {},
     "output_type": "execute_result"
    }
   ],
   "source": [
    "rc1[\"total_amount\"].describe()"
   ]
  },
  {
   "cell_type": "code",
   "execution_count": 172,
   "metadata": {},
   "outputs": [
    {
     "data": {
      "text/plain": [
       "0.100        6.800\n",
       "0.147        7.300\n",
       "0.195        8.020\n",
       "0.242        8.750\n",
       "0.289        9.300\n",
       "0.337        9.800\n",
       "0.384       10.300\n",
       "0.432       11.000\n",
       "0.479       11.760\n",
       "0.526       12.360\n",
       "0.574       13.300\n",
       "0.621       14.160\n",
       "0.668       15.300\n",
       "0.716       16.560\n",
       "0.763       18.300\n",
       "0.811       20.300\n",
       "0.858       23.160\n",
       "0.905       27.950\n",
       "0.953       38.300\n",
       "1.000   187442.260\n",
       "Name: total_amount, dtype: float64"
      ]
     },
     "execution_count": 172,
     "metadata": {},
     "output_type": "execute_result"
    }
   ],
   "source": [
    "rc1[\"total_amount\"].quantile(np.linspace(0.1,1,20))"
   ]
  },
  {
   "cell_type": "code",
   "execution_count": 174,
   "metadata": {},
   "outputs": [
    {
     "data": {
      "text/plain": [
       "71.76"
      ]
     },
     "execution_count": 174,
     "metadata": {},
     "output_type": "execute_result"
    }
   ],
   "source": [
    "rc1[\"total_amount\"].quantile(0.9995)"
   ]
  },
  {
   "cell_type": "code",
   "execution_count": 175,
   "metadata": {},
   "outputs": [],
   "source": [
    "rc1 = rc1[rc1.total_amount < 70]"
   ]
  },
  {
   "cell_type": "code",
   "execution_count": 176,
   "metadata": {},
   "outputs": [
    {
     "data": {
      "text/plain": [
       "VendorID                 10624233\n",
       "tpep_pickup_datetime     10624233\n",
       "tpep_dropoff_datetime    10624233\n",
       "passenger_count          10624233\n",
       "trip_distance            10624233\n",
       "pickup_longitude         10624233\n",
       "pickup_latitude          10624233\n",
       "RatecodeID               10624233\n",
       "store_and_fwd_flag       10624233\n",
       "dropoff_longitude        10624233\n",
       "dropoff_latitude         10624233\n",
       "payment_type             10624233\n",
       "tolls_amount             10624233\n",
       "improvement_surcharge    10624233\n",
       "total_amount             10624233\n",
       "trip_duration            10624233\n",
       "average_speed            10624233\n",
       "night_trip               10624233\n",
       "rush_hour                10624233\n",
       "dtype: int64"
      ]
     },
     "execution_count": 176,
     "metadata": {},
     "output_type": "execute_result"
    }
   ],
   "source": [
    "rc1.count()"
   ]
  },
  {
   "cell_type": "code",
   "execution_count": 284,
   "metadata": {},
   "outputs": [
    {
     "data": {
      "text/plain": [
       "0.04132818972911799"
      ]
     },
     "execution_count": 284,
     "metadata": {},
     "output_type": "execute_result"
    }
   ],
   "source": [
    "(11082242-10624233)/11082242 #passt"
   ]
  },
  {
   "cell_type": "markdown",
   "metadata": {},
   "source": [
    "# RateCodeID 2"
   ]
  },
  {
   "cell_type": "code",
   "execution_count": 191,
   "metadata": {},
   "outputs": [
    {
     "data": {
      "text/html": [
       "<div>\n",
       "<style scoped>\n",
       "    .dataframe tbody tr th:only-of-type {\n",
       "        vertical-align: middle;\n",
       "    }\n",
       "\n",
       "    .dataframe tbody tr th {\n",
       "        vertical-align: top;\n",
       "    }\n",
       "\n",
       "    .dataframe thead th {\n",
       "        text-align: right;\n",
       "    }\n",
       "</style>\n",
       "<table border=\"1\" class=\"dataframe\">\n",
       "  <thead>\n",
       "    <tr style=\"text-align: right;\">\n",
       "      <th></th>\n",
       "      <th>VendorID</th>\n",
       "      <th>passenger_count</th>\n",
       "      <th>trip_distance</th>\n",
       "      <th>pickup_longitude</th>\n",
       "      <th>pickup_latitude</th>\n",
       "      <th>RatecodeID</th>\n",
       "      <th>dropoff_longitude</th>\n",
       "      <th>dropoff_latitude</th>\n",
       "      <th>payment_type</th>\n",
       "      <th>tolls_amount</th>\n",
       "      <th>improvement_surcharge</th>\n",
       "      <th>total_amount</th>\n",
       "      <th>trip_duration</th>\n",
       "      <th>average_speed</th>\n",
       "      <th>night_trip</th>\n",
       "      <th>rush_hour</th>\n",
       "    </tr>\n",
       "  </thead>\n",
       "  <tbody>\n",
       "    <tr>\n",
       "      <th>count</th>\n",
       "      <td>240401.000</td>\n",
       "      <td>240401.000</td>\n",
       "      <td>240401.000</td>\n",
       "      <td>240401.000</td>\n",
       "      <td>240401.000</td>\n",
       "      <td>240401.000</td>\n",
       "      <td>240401.000</td>\n",
       "      <td>240401.000</td>\n",
       "      <td>240401.000</td>\n",
       "      <td>240401.000</td>\n",
       "      <td>240401.000</td>\n",
       "      <td>240401.000</td>\n",
       "      <td>240401.000</td>\n",
       "      <td>240401.000</td>\n",
       "      <td>240401.000</td>\n",
       "      <td>240401.000</td>\n",
       "    </tr>\n",
       "    <tr>\n",
       "      <th>mean</th>\n",
       "      <td>1.560</td>\n",
       "      <td>1.748</td>\n",
       "      <td>17.324</td>\n",
       "      <td>-73.864</td>\n",
       "      <td>40.690</td>\n",
       "      <td>2.000</td>\n",
       "      <td>-73.909</td>\n",
       "      <td>40.716</td>\n",
       "      <td>1.329</td>\n",
       "      <td>4.345</td>\n",
       "      <td>0.299</td>\n",
       "      <td>65.142</td>\n",
       "      <td>47.788</td>\n",
       "      <td>23.386</td>\n",
       "      <td>0.270</td>\n",
       "      <td>0.225</td>\n",
       "    </tr>\n",
       "    <tr>\n",
       "      <th>std</th>\n",
       "      <td>0.496</td>\n",
       "      <td>1.326</td>\n",
       "      <td>4.434</td>\n",
       "      <td>0.096</td>\n",
       "      <td>0.055</td>\n",
       "      <td>0.000</td>\n",
       "      <td>0.096</td>\n",
       "      <td>0.057</td>\n",
       "      <td>0.502</td>\n",
       "      <td>4.050</td>\n",
       "      <td>0.020</td>\n",
       "      <td>46.058</td>\n",
       "      <td>18.770</td>\n",
       "      <td>9.412</td>\n",
       "      <td>0.444</td>\n",
       "      <td>0.418</td>\n",
       "    </tr>\n",
       "    <tr>\n",
       "      <th>min</th>\n",
       "      <td>1.000</td>\n",
       "      <td>1.000</td>\n",
       "      <td>0.000</td>\n",
       "      <td>-78.621</td>\n",
       "      <td>38.041</td>\n",
       "      <td>2.000</td>\n",
       "      <td>-78.621</td>\n",
       "      <td>38.041</td>\n",
       "      <td>1.000</td>\n",
       "      <td>-5.540</td>\n",
       "      <td>-0.300</td>\n",
       "      <td>-75.410</td>\n",
       "      <td>0.017</td>\n",
       "      <td>0.000</td>\n",
       "      <td>0.000</td>\n",
       "      <td>0.000</td>\n",
       "    </tr>\n",
       "    <tr>\n",
       "      <th>25%</th>\n",
       "      <td>1.000</td>\n",
       "      <td>1.000</td>\n",
       "      <td>16.900</td>\n",
       "      <td>-73.977</td>\n",
       "      <td>40.645</td>\n",
       "      <td>2.000</td>\n",
       "      <td>-73.985</td>\n",
       "      <td>40.647</td>\n",
       "      <td>1.000</td>\n",
       "      <td>5.540</td>\n",
       "      <td>0.300</td>\n",
       "      <td>58.340</td>\n",
       "      <td>35.083</td>\n",
       "      <td>16.985</td>\n",
       "      <td>0.000</td>\n",
       "      <td>0.000</td>\n",
       "    </tr>\n",
       "    <tr>\n",
       "      <th>50%</th>\n",
       "      <td>2.000</td>\n",
       "      <td>1.000</td>\n",
       "      <td>17.880</td>\n",
       "      <td>-73.790</td>\n",
       "      <td>40.648</td>\n",
       "      <td>2.000</td>\n",
       "      <td>-73.970</td>\n",
       "      <td>40.737</td>\n",
       "      <td>1.000</td>\n",
       "      <td>5.540</td>\n",
       "      <td>0.300</td>\n",
       "      <td>64.800</td>\n",
       "      <td>47.533</td>\n",
       "      <td>21.939</td>\n",
       "      <td>0.000</td>\n",
       "      <td>0.000</td>\n",
       "    </tr>\n",
       "    <tr>\n",
       "      <th>75%</th>\n",
       "      <td>2.000</td>\n",
       "      <td>2.000</td>\n",
       "      <td>19.100</td>\n",
       "      <td>-73.783</td>\n",
       "      <td>40.750</td>\n",
       "      <td>2.000</td>\n",
       "      <td>-73.789</td>\n",
       "      <td>40.760</td>\n",
       "      <td>2.000</td>\n",
       "      <td>5.540</td>\n",
       "      <td>0.300</td>\n",
       "      <td>70.010</td>\n",
       "      <td>60.933</td>\n",
       "      <td>29.289</td>\n",
       "      <td>1.000</td>\n",
       "      <td>0.000</td>\n",
       "    </tr>\n",
       "    <tr>\n",
       "      <th>max</th>\n",
       "      <td>2.000</td>\n",
       "      <td>6.000</td>\n",
       "      <td>67.870</td>\n",
       "      <td>-73.213</td>\n",
       "      <td>41.047</td>\n",
       "      <td>2.000</td>\n",
       "      <td>-73.126</td>\n",
       "      <td>41.561</td>\n",
       "      <td>4.000</td>\n",
       "      <td>905.540</td>\n",
       "      <td>0.300</td>\n",
       "      <td>8454.240</td>\n",
       "      <td>90.000</td>\n",
       "      <td>50.000</td>\n",
       "      <td>1.000</td>\n",
       "      <td>1.000</td>\n",
       "    </tr>\n",
       "  </tbody>\n",
       "</table>\n",
       "</div>"
      ],
      "text/plain": [
       "        VendorID  passenger_count  trip_distance  pickup_longitude  \\\n",
       "count 240401.000       240401.000     240401.000        240401.000   \n",
       "mean       1.560            1.748         17.324           -73.864   \n",
       "std        0.496            1.326          4.434             0.096   \n",
       "min        1.000            1.000          0.000           -78.621   \n",
       "25%        1.000            1.000         16.900           -73.977   \n",
       "50%        2.000            1.000         17.880           -73.790   \n",
       "75%        2.000            2.000         19.100           -73.783   \n",
       "max        2.000            6.000         67.870           -73.213   \n",
       "\n",
       "       pickup_latitude  RatecodeID  dropoff_longitude  dropoff_latitude  \\\n",
       "count       240401.000  240401.000         240401.000        240401.000   \n",
       "mean            40.690       2.000            -73.909            40.716   \n",
       "std              0.055       0.000              0.096             0.057   \n",
       "min             38.041       2.000            -78.621            38.041   \n",
       "25%             40.645       2.000            -73.985            40.647   \n",
       "50%             40.648       2.000            -73.970            40.737   \n",
       "75%             40.750       2.000            -73.789            40.760   \n",
       "max             41.047       2.000            -73.126            41.561   \n",
       "\n",
       "       payment_type  tolls_amount  improvement_surcharge  total_amount  \\\n",
       "count    240401.000    240401.000             240401.000    240401.000   \n",
       "mean          1.329         4.345                  0.299        65.142   \n",
       "std           0.502         4.050                  0.020        46.058   \n",
       "min           1.000        -5.540                 -0.300       -75.410   \n",
       "25%           1.000         5.540                  0.300        58.340   \n",
       "50%           1.000         5.540                  0.300        64.800   \n",
       "75%           2.000         5.540                  0.300        70.010   \n",
       "max           4.000       905.540                  0.300      8454.240   \n",
       "\n",
       "       trip_duration  average_speed  night_trip  rush_hour  \n",
       "count     240401.000     240401.000  240401.000 240401.000  \n",
       "mean          47.788         23.386       0.270      0.225  \n",
       "std           18.770          9.412       0.444      0.418  \n",
       "min            0.017          0.000       0.000      0.000  \n",
       "25%           35.083         16.985       0.000      0.000  \n",
       "50%           47.533         21.939       0.000      0.000  \n",
       "75%           60.933         29.289       1.000      0.000  \n",
       "max           90.000         50.000       1.000      1.000  "
      ]
     },
     "execution_count": 191,
     "metadata": {},
     "output_type": "execute_result"
    }
   ],
   "source": [
    "rc2.describe() #240401 observations"
   ]
  },
  {
   "cell_type": "markdown",
   "metadata": {},
   "source": [
    "## Trip distance"
   ]
  },
  {
   "cell_type": "code",
   "execution_count": 192,
   "metadata": {},
   "outputs": [
    {
     "data": {
      "text/plain": [
       "count   240401.000\n",
       "mean        17.324\n",
       "std          4.434\n",
       "min          0.000\n",
       "25%         16.900\n",
       "50%         17.880\n",
       "75%         19.100\n",
       "max         67.870\n",
       "Name: trip_distance, dtype: float64"
      ]
     },
     "execution_count": 192,
     "metadata": {},
     "output_type": "execute_result"
    }
   ],
   "source": [
    "rc2[\"trip_distance\"].describe()"
   ]
  },
  {
   "cell_type": "markdown",
   "metadata": {},
   "source": [
    "I will not change nything here"
   ]
  },
  {
   "cell_type": "markdown",
   "metadata": {},
   "source": [
    "## Tolls amount"
   ]
  },
  {
   "cell_type": "code",
   "execution_count": 193,
   "metadata": {},
   "outputs": [
    {
     "data": {
      "text/plain": [
       "count   240401.000\n",
       "mean         4.345\n",
       "std          4.050\n",
       "min         -5.540\n",
       "25%          5.540\n",
       "50%          5.540\n",
       "75%          5.540\n",
       "max        905.540\n",
       "Name: tolls_amount, dtype: float64"
      ]
     },
     "execution_count": 193,
     "metadata": {},
     "output_type": "execute_result"
    }
   ],
   "source": [
    "rc2[\"tolls_amount\"].describe()"
   ]
  },
  {
   "cell_type": "code",
   "execution_count": 194,
   "metadata": {},
   "outputs": [
    {
     "data": {
      "text/plain": [
       "0.100    0.000\n",
       "0.200    0.000\n",
       "0.300    5.540\n",
       "0.400    5.540\n",
       "0.500    5.540\n",
       "0.599    5.540\n",
       "0.699    5.540\n",
       "0.799    5.540\n",
       "0.899    5.540\n",
       "0.999   11.080\n",
       "Name: tolls_amount, dtype: float64"
      ]
     },
     "execution_count": 194,
     "metadata": {},
     "output_type": "execute_result"
    }
   ],
   "source": [
    "rc2[\"tolls_amount\"].quantile(np.linspace(0.1, 0.999, 10))"
   ]
  },
  {
   "cell_type": "markdown",
   "metadata": {},
   "source": [
    "Remove odd values:"
   ]
  },
  {
   "cell_type": "code",
   "execution_count": 197,
   "metadata": {},
   "outputs": [],
   "source": [
    "rc2 = rc2[(rc2.tolls_amount>0) & (rc2.tolls_amount<10)]"
   ]
  },
  {
   "cell_type": "code",
   "execution_count": 198,
   "metadata": {},
   "outputs": [
    {
     "data": {
      "text/html": [
       "<div>\n",
       "<style scoped>\n",
       "    .dataframe tbody tr th:only-of-type {\n",
       "        vertical-align: middle;\n",
       "    }\n",
       "\n",
       "    .dataframe tbody tr th {\n",
       "        vertical-align: top;\n",
       "    }\n",
       "\n",
       "    .dataframe thead th {\n",
       "        text-align: right;\n",
       "    }\n",
       "</style>\n",
       "<table border=\"1\" class=\"dataframe\">\n",
       "  <thead>\n",
       "    <tr style=\"text-align: right;\">\n",
       "      <th></th>\n",
       "      <th>VendorID</th>\n",
       "      <th>passenger_count</th>\n",
       "      <th>trip_distance</th>\n",
       "      <th>pickup_longitude</th>\n",
       "      <th>pickup_latitude</th>\n",
       "      <th>RatecodeID</th>\n",
       "      <th>dropoff_longitude</th>\n",
       "      <th>dropoff_latitude</th>\n",
       "      <th>payment_type</th>\n",
       "      <th>tolls_amount</th>\n",
       "      <th>improvement_surcharge</th>\n",
       "      <th>total_amount</th>\n",
       "      <th>trip_duration</th>\n",
       "      <th>average_speed</th>\n",
       "      <th>night_trip</th>\n",
       "      <th>rush_hour</th>\n",
       "    </tr>\n",
       "  </thead>\n",
       "  <tbody>\n",
       "    <tr>\n",
       "      <th>count</th>\n",
       "      <td>185668.000</td>\n",
       "      <td>185668.000</td>\n",
       "      <td>185668.000</td>\n",
       "      <td>185668.000</td>\n",
       "      <td>185668.000</td>\n",
       "      <td>185668.000</td>\n",
       "      <td>185668.000</td>\n",
       "      <td>185668.000</td>\n",
       "      <td>185668.000</td>\n",
       "      <td>185668.000</td>\n",
       "      <td>185668.000</td>\n",
       "      <td>185668.000</td>\n",
       "      <td>185668.000</td>\n",
       "      <td>185668.000</td>\n",
       "      <td>185668.000</td>\n",
       "      <td>185668.000</td>\n",
       "    </tr>\n",
       "    <tr>\n",
       "      <th>mean</th>\n",
       "      <td>1.566</td>\n",
       "      <td>1.768</td>\n",
       "      <td>17.727</td>\n",
       "      <td>-73.860</td>\n",
       "      <td>40.689</td>\n",
       "      <td>2.000</td>\n",
       "      <td>-73.909</td>\n",
       "      <td>40.719</td>\n",
       "      <td>1.312</td>\n",
       "      <td>5.546</td>\n",
       "      <td>0.300</td>\n",
       "      <td>66.465</td>\n",
       "      <td>48.485</td>\n",
       "      <td>23.839</td>\n",
       "      <td>0.250</td>\n",
       "      <td>0.227</td>\n",
       "    </tr>\n",
       "    <tr>\n",
       "      <th>std</th>\n",
       "      <td>0.496</td>\n",
       "      <td>1.332</td>\n",
       "      <td>3.825</td>\n",
       "      <td>0.094</td>\n",
       "      <td>0.055</td>\n",
       "      <td>0.000</td>\n",
       "      <td>0.094</td>\n",
       "      <td>0.058</td>\n",
       "      <td>0.479</td>\n",
       "      <td>0.148</td>\n",
       "      <td>0.001</td>\n",
       "      <td>20.434</td>\n",
       "      <td>17.750</td>\n",
       "      <td>9.059</td>\n",
       "      <td>0.433</td>\n",
       "      <td>0.419</td>\n",
       "    </tr>\n",
       "    <tr>\n",
       "      <th>min</th>\n",
       "      <td>1.000</td>\n",
       "      <td>1.000</td>\n",
       "      <td>0.000</td>\n",
       "      <td>-74.613</td>\n",
       "      <td>40.583</td>\n",
       "      <td>2.000</td>\n",
       "      <td>-74.691</td>\n",
       "      <td>40.474</td>\n",
       "      <td>1.000</td>\n",
       "      <td>0.010</td>\n",
       "      <td>0.000</td>\n",
       "      <td>0.000</td>\n",
       "      <td>0.017</td>\n",
       "      <td>0.000</td>\n",
       "      <td>0.000</td>\n",
       "      <td>0.000</td>\n",
       "    </tr>\n",
       "    <tr>\n",
       "      <th>25%</th>\n",
       "      <td>1.000</td>\n",
       "      <td>1.000</td>\n",
       "      <td>17.020</td>\n",
       "      <td>-73.975</td>\n",
       "      <td>40.645</td>\n",
       "      <td>2.000</td>\n",
       "      <td>-73.985</td>\n",
       "      <td>40.647</td>\n",
       "      <td>1.000</td>\n",
       "      <td>5.540</td>\n",
       "      <td>0.300</td>\n",
       "      <td>58.340</td>\n",
       "      <td>35.850</td>\n",
       "      <td>17.448</td>\n",
       "      <td>0.000</td>\n",
       "      <td>0.000</td>\n",
       "    </tr>\n",
       "    <tr>\n",
       "      <th>50%</th>\n",
       "      <td>2.000</td>\n",
       "      <td>1.000</td>\n",
       "      <td>17.900</td>\n",
       "      <td>-73.790</td>\n",
       "      <td>40.648</td>\n",
       "      <td>2.000</td>\n",
       "      <td>-73.970</td>\n",
       "      <td>40.745</td>\n",
       "      <td>1.000</td>\n",
       "      <td>5.540</td>\n",
       "      <td>0.300</td>\n",
       "      <td>68.340</td>\n",
       "      <td>47.967</td>\n",
       "      <td>22.228</td>\n",
       "      <td>0.000</td>\n",
       "      <td>0.000</td>\n",
       "    </tr>\n",
       "    <tr>\n",
       "      <th>75%</th>\n",
       "      <td>2.000</td>\n",
       "      <td>2.000</td>\n",
       "      <td>19.200</td>\n",
       "      <td>-73.782</td>\n",
       "      <td>40.750</td>\n",
       "      <td>2.000</td>\n",
       "      <td>-73.790</td>\n",
       "      <td>40.760</td>\n",
       "      <td>2.000</td>\n",
       "      <td>5.540</td>\n",
       "      <td>0.300</td>\n",
       "      <td>70.010</td>\n",
       "      <td>60.900</td>\n",
       "      <td>29.460</td>\n",
       "      <td>0.000</td>\n",
       "      <td>0.000</td>\n",
       "    </tr>\n",
       "    <tr>\n",
       "      <th>max</th>\n",
       "      <td>2.000</td>\n",
       "      <td>6.000</td>\n",
       "      <td>54.500</td>\n",
       "      <td>-73.213</td>\n",
       "      <td>41.019</td>\n",
       "      <td>2.000</td>\n",
       "      <td>-73.213</td>\n",
       "      <td>41.561</td>\n",
       "      <td>4.000</td>\n",
       "      <td>9.840</td>\n",
       "      <td>0.300</td>\n",
       "      <td>8454.240</td>\n",
       "      <td>90.000</td>\n",
       "      <td>49.995</td>\n",
       "      <td>1.000</td>\n",
       "      <td>1.000</td>\n",
       "    </tr>\n",
       "  </tbody>\n",
       "</table>\n",
       "</div>"
      ],
      "text/plain": [
       "        VendorID  passenger_count  trip_distance  pickup_longitude  \\\n",
       "count 185668.000       185668.000     185668.000        185668.000   \n",
       "mean       1.566            1.768         17.727           -73.860   \n",
       "std        0.496            1.332          3.825             0.094   \n",
       "min        1.000            1.000          0.000           -74.613   \n",
       "25%        1.000            1.000         17.020           -73.975   \n",
       "50%        2.000            1.000         17.900           -73.790   \n",
       "75%        2.000            2.000         19.200           -73.782   \n",
       "max        2.000            6.000         54.500           -73.213   \n",
       "\n",
       "       pickup_latitude  RatecodeID  dropoff_longitude  dropoff_latitude  \\\n",
       "count       185668.000  185668.000         185668.000        185668.000   \n",
       "mean            40.689       2.000            -73.909            40.719   \n",
       "std              0.055       0.000              0.094             0.058   \n",
       "min             40.583       2.000            -74.691            40.474   \n",
       "25%             40.645       2.000            -73.985            40.647   \n",
       "50%             40.648       2.000            -73.970            40.745   \n",
       "75%             40.750       2.000            -73.790            40.760   \n",
       "max             41.019       2.000            -73.213            41.561   \n",
       "\n",
       "       payment_type  tolls_amount  improvement_surcharge  total_amount  \\\n",
       "count    185668.000    185668.000             185668.000    185668.000   \n",
       "mean          1.312         5.546                  0.300        66.465   \n",
       "std           0.479         0.148                  0.001        20.434   \n",
       "min           1.000         0.010                  0.000         0.000   \n",
       "25%           1.000         5.540                  0.300        58.340   \n",
       "50%           1.000         5.540                  0.300        68.340   \n",
       "75%           2.000         5.540                  0.300        70.010   \n",
       "max           4.000         9.840                  0.300      8454.240   \n",
       "\n",
       "       trip_duration  average_speed  night_trip  rush_hour  \n",
       "count     185668.000     185668.000  185668.000 185668.000  \n",
       "mean          48.485         23.839       0.250      0.227  \n",
       "std           17.750          9.059       0.433      0.419  \n",
       "min            0.017          0.000       0.000      0.000  \n",
       "25%           35.850         17.448       0.000      0.000  \n",
       "50%           47.967         22.228       0.000      0.000  \n",
       "75%           60.900         29.460       0.000      0.000  \n",
       "max           90.000         49.995       1.000      1.000  "
      ]
     },
     "execution_count": 198,
     "metadata": {},
     "output_type": "execute_result"
    }
   ],
   "source": [
    "rc2.describe()"
   ]
  },
  {
   "cell_type": "code",
   "execution_count": 287,
   "metadata": {},
   "outputs": [
    {
     "data": {
      "text/plain": [
       "0.9832463503323605"
      ]
     },
     "execution_count": 287,
     "metadata": {},
     "output_type": "execute_result"
    }
   ],
   "source": [
    "(11082242-185668)/11082242"
   ]
  },
  {
   "cell_type": "markdown",
   "metadata": {},
   "source": [
    "## Improvement surcharge"
   ]
  },
  {
   "cell_type": "code",
   "execution_count": 201,
   "metadata": {},
   "outputs": [
    {
     "data": {
      "text/plain": [
       "count   185668.000\n",
       "mean         0.300\n",
       "std          0.001\n",
       "min          0.000\n",
       "25%          0.300\n",
       "50%          0.300\n",
       "75%          0.300\n",
       "max          0.300\n",
       "Name: improvement_surcharge, dtype: float64"
      ]
     },
     "execution_count": 201,
     "metadata": {},
     "output_type": "execute_result"
    }
   ],
   "source": [
    "rc2[\"improvement_surcharge\"].describe()"
   ]
  },
  {
   "cell_type": "code",
   "execution_count": 202,
   "metadata": {},
   "outputs": [
    {
     "data": {
      "text/plain": [
       "VendorID                 0\n",
       "tpep_pickup_datetime     0\n",
       "tpep_dropoff_datetime    0\n",
       "passenger_count          0\n",
       "trip_distance            0\n",
       "pickup_longitude         0\n",
       "pickup_latitude          0\n",
       "RatecodeID               0\n",
       "store_and_fwd_flag       0\n",
       "dropoff_longitude        0\n",
       "dropoff_latitude         0\n",
       "payment_type             0\n",
       "tolls_amount             0\n",
       "improvement_surcharge    0\n",
       "total_amount             0\n",
       "trip_duration            0\n",
       "average_speed            0\n",
       "night_trip               0\n",
       "rush_hour                0\n",
       "dtype: int64"
      ]
     },
     "execution_count": 202,
     "metadata": {},
     "output_type": "execute_result"
    }
   ],
   "source": [
    "rc2[rc2.improvement_surcharge < 0].count() # passt"
   ]
  },
  {
   "cell_type": "markdown",
   "metadata": {},
   "source": [
    "## Total amount"
   ]
  },
  {
   "cell_type": "code",
   "execution_count": 203,
   "metadata": {},
   "outputs": [
    {
     "data": {
      "text/plain": [
       "count   185668.000\n",
       "mean        66.465\n",
       "std         20.434\n",
       "min          0.000\n",
       "25%         58.340\n",
       "50%         68.340\n",
       "75%         70.010\n",
       "max       8454.240\n",
       "Name: total_amount, dtype: float64"
      ]
     },
     "execution_count": 203,
     "metadata": {},
     "output_type": "execute_result"
    }
   ],
   "source": [
    "rc2[\"total_amount\"].describe()"
   ]
  },
  {
   "cell_type": "markdown",
   "metadata": {},
   "source": [
    "We see that 25% Quantile is 58$, a lot of expensive trips. Remeve just the crazy outliers:"
   ]
  },
  {
   "cell_type": "code",
   "execution_count": 209,
   "metadata": {},
   "outputs": [
    {
     "data": {
      "text/plain": [
       "3844.5554240312026"
      ]
     },
     "execution_count": 209,
     "metadata": {},
     "output_type": "execute_result"
    }
   ],
   "source": [
    "rc2[\"total_amount\"].quantile(0.999997)"
   ]
  },
  {
   "cell_type": "code",
   "execution_count": 214,
   "metadata": {},
   "outputs": [],
   "source": [
    "rc2 = rc2[rc2.total_amount < 100]"
   ]
  },
  {
   "cell_type": "code",
   "execution_count": 215,
   "metadata": {},
   "outputs": [
    {
     "data": {
      "text/html": [
       "<div>\n",
       "<style scoped>\n",
       "    .dataframe tbody tr th:only-of-type {\n",
       "        vertical-align: middle;\n",
       "    }\n",
       "\n",
       "    .dataframe tbody tr th {\n",
       "        vertical-align: top;\n",
       "    }\n",
       "\n",
       "    .dataframe thead th {\n",
       "        text-align: right;\n",
       "    }\n",
       "</style>\n",
       "<table border=\"1\" class=\"dataframe\">\n",
       "  <thead>\n",
       "    <tr style=\"text-align: right;\">\n",
       "      <th></th>\n",
       "      <th>VendorID</th>\n",
       "      <th>passenger_count</th>\n",
       "      <th>trip_distance</th>\n",
       "      <th>pickup_longitude</th>\n",
       "      <th>pickup_latitude</th>\n",
       "      <th>RatecodeID</th>\n",
       "      <th>dropoff_longitude</th>\n",
       "      <th>dropoff_latitude</th>\n",
       "      <th>payment_type</th>\n",
       "      <th>tolls_amount</th>\n",
       "      <th>improvement_surcharge</th>\n",
       "      <th>total_amount</th>\n",
       "      <th>trip_duration</th>\n",
       "      <th>average_speed</th>\n",
       "      <th>night_trip</th>\n",
       "      <th>rush_hour</th>\n",
       "    </tr>\n",
       "  </thead>\n",
       "  <tbody>\n",
       "    <tr>\n",
       "      <th>count</th>\n",
       "      <td>185606.000</td>\n",
       "      <td>185606.000</td>\n",
       "      <td>185606.000</td>\n",
       "      <td>185606.000</td>\n",
       "      <td>185606.000</td>\n",
       "      <td>185606.000</td>\n",
       "      <td>185606.000</td>\n",
       "      <td>185606.000</td>\n",
       "      <td>185606.000</td>\n",
       "      <td>185606.000</td>\n",
       "      <td>185606.000</td>\n",
       "      <td>185606.000</td>\n",
       "      <td>185606.000</td>\n",
       "      <td>185606.000</td>\n",
       "      <td>185606.000</td>\n",
       "      <td>185606.000</td>\n",
       "    </tr>\n",
       "    <tr>\n",
       "      <th>mean</th>\n",
       "      <td>1.566</td>\n",
       "      <td>1.768</td>\n",
       "      <td>17.727</td>\n",
       "      <td>-73.860</td>\n",
       "      <td>40.689</td>\n",
       "      <td>2.000</td>\n",
       "      <td>-73.909</td>\n",
       "      <td>40.719</td>\n",
       "      <td>1.312</td>\n",
       "      <td>5.546</td>\n",
       "      <td>0.300</td>\n",
       "      <td>66.402</td>\n",
       "      <td>48.482</td>\n",
       "      <td>23.840</td>\n",
       "      <td>0.250</td>\n",
       "      <td>0.227</td>\n",
       "    </tr>\n",
       "    <tr>\n",
       "      <th>std</th>\n",
       "      <td>0.496</td>\n",
       "      <td>1.332</td>\n",
       "      <td>3.824</td>\n",
       "      <td>0.094</td>\n",
       "      <td>0.055</td>\n",
       "      <td>0.000</td>\n",
       "      <td>0.094</td>\n",
       "      <td>0.058</td>\n",
       "      <td>0.479</td>\n",
       "      <td>0.148</td>\n",
       "      <td>0.001</td>\n",
       "      <td>6.132</td>\n",
       "      <td>17.748</td>\n",
       "      <td>9.059</td>\n",
       "      <td>0.433</td>\n",
       "      <td>0.419</td>\n",
       "    </tr>\n",
       "    <tr>\n",
       "      <th>min</th>\n",
       "      <td>1.000</td>\n",
       "      <td>1.000</td>\n",
       "      <td>0.000</td>\n",
       "      <td>-74.613</td>\n",
       "      <td>40.583</td>\n",
       "      <td>2.000</td>\n",
       "      <td>-74.691</td>\n",
       "      <td>40.474</td>\n",
       "      <td>1.000</td>\n",
       "      <td>0.010</td>\n",
       "      <td>0.000</td>\n",
       "      <td>0.000</td>\n",
       "      <td>0.017</td>\n",
       "      <td>0.000</td>\n",
       "      <td>0.000</td>\n",
       "      <td>0.000</td>\n",
       "    </tr>\n",
       "    <tr>\n",
       "      <th>25%</th>\n",
       "      <td>1.000</td>\n",
       "      <td>1.000</td>\n",
       "      <td>17.020</td>\n",
       "      <td>-73.975</td>\n",
       "      <td>40.645</td>\n",
       "      <td>2.000</td>\n",
       "      <td>-73.985</td>\n",
       "      <td>40.647</td>\n",
       "      <td>1.000</td>\n",
       "      <td>5.540</td>\n",
       "      <td>0.300</td>\n",
       "      <td>58.340</td>\n",
       "      <td>35.850</td>\n",
       "      <td>17.450</td>\n",
       "      <td>0.000</td>\n",
       "      <td>0.000</td>\n",
       "    </tr>\n",
       "    <tr>\n",
       "      <th>50%</th>\n",
       "      <td>2.000</td>\n",
       "      <td>1.000</td>\n",
       "      <td>17.900</td>\n",
       "      <td>-73.790</td>\n",
       "      <td>40.648</td>\n",
       "      <td>2.000</td>\n",
       "      <td>-73.970</td>\n",
       "      <td>40.745</td>\n",
       "      <td>1.000</td>\n",
       "      <td>5.540</td>\n",
       "      <td>0.300</td>\n",
       "      <td>68.340</td>\n",
       "      <td>47.967</td>\n",
       "      <td>22.229</td>\n",
       "      <td>0.000</td>\n",
       "      <td>0.000</td>\n",
       "    </tr>\n",
       "    <tr>\n",
       "      <th>75%</th>\n",
       "      <td>2.000</td>\n",
       "      <td>2.000</td>\n",
       "      <td>19.200</td>\n",
       "      <td>-73.782</td>\n",
       "      <td>40.750</td>\n",
       "      <td>2.000</td>\n",
       "      <td>-73.790</td>\n",
       "      <td>40.760</td>\n",
       "      <td>2.000</td>\n",
       "      <td>5.540</td>\n",
       "      <td>0.300</td>\n",
       "      <td>70.010</td>\n",
       "      <td>60.900</td>\n",
       "      <td>29.461</td>\n",
       "      <td>0.000</td>\n",
       "      <td>0.000</td>\n",
       "    </tr>\n",
       "    <tr>\n",
       "      <th>max</th>\n",
       "      <td>2.000</td>\n",
       "      <td>6.000</td>\n",
       "      <td>54.500</td>\n",
       "      <td>-73.213</td>\n",
       "      <td>41.019</td>\n",
       "      <td>2.000</td>\n",
       "      <td>-73.213</td>\n",
       "      <td>41.561</td>\n",
       "      <td>4.000</td>\n",
       "      <td>9.840</td>\n",
       "      <td>0.300</td>\n",
       "      <td>98.340</td>\n",
       "      <td>90.000</td>\n",
       "      <td>49.995</td>\n",
       "      <td>1.000</td>\n",
       "      <td>1.000</td>\n",
       "    </tr>\n",
       "  </tbody>\n",
       "</table>\n",
       "</div>"
      ],
      "text/plain": [
       "        VendorID  passenger_count  trip_distance  pickup_longitude  \\\n",
       "count 185606.000       185606.000     185606.000        185606.000   \n",
       "mean       1.566            1.768         17.727           -73.860   \n",
       "std        0.496            1.332          3.824             0.094   \n",
       "min        1.000            1.000          0.000           -74.613   \n",
       "25%        1.000            1.000         17.020           -73.975   \n",
       "50%        2.000            1.000         17.900           -73.790   \n",
       "75%        2.000            2.000         19.200           -73.782   \n",
       "max        2.000            6.000         54.500           -73.213   \n",
       "\n",
       "       pickup_latitude  RatecodeID  dropoff_longitude  dropoff_latitude  \\\n",
       "count       185606.000  185606.000         185606.000        185606.000   \n",
       "mean            40.689       2.000            -73.909            40.719   \n",
       "std              0.055       0.000              0.094             0.058   \n",
       "min             40.583       2.000            -74.691            40.474   \n",
       "25%             40.645       2.000            -73.985            40.647   \n",
       "50%             40.648       2.000            -73.970            40.745   \n",
       "75%             40.750       2.000            -73.790            40.760   \n",
       "max             41.019       2.000            -73.213            41.561   \n",
       "\n",
       "       payment_type  tolls_amount  improvement_surcharge  total_amount  \\\n",
       "count    185606.000    185606.000             185606.000    185606.000   \n",
       "mean          1.312         5.546                  0.300        66.402   \n",
       "std           0.479         0.148                  0.001         6.132   \n",
       "min           1.000         0.010                  0.000         0.000   \n",
       "25%           1.000         5.540                  0.300        58.340   \n",
       "50%           1.000         5.540                  0.300        68.340   \n",
       "75%           2.000         5.540                  0.300        70.010   \n",
       "max           4.000         9.840                  0.300        98.340   \n",
       "\n",
       "       trip_duration  average_speed  night_trip  rush_hour  \n",
       "count     185606.000     185606.000  185606.000 185606.000  \n",
       "mean          48.482         23.840       0.250      0.227  \n",
       "std           17.748          9.059       0.433      0.419  \n",
       "min            0.017          0.000       0.000      0.000  \n",
       "25%           35.850         17.450       0.000      0.000  \n",
       "50%           47.967         22.229       0.000      0.000  \n",
       "75%           60.900         29.461       0.000      0.000  \n",
       "max           90.000         49.995       1.000      1.000  "
      ]
     },
     "execution_count": 215,
     "metadata": {},
     "output_type": "execute_result"
    }
   ],
   "source": [
    "rc2.describe()"
   ]
  },
  {
   "cell_type": "markdown",
   "metadata": {},
   "source": [
    "# RateCodeID 3"
   ]
  },
  {
   "cell_type": "markdown",
   "metadata": {},
   "source": [
    "## Trip Distance"
   ]
  },
  {
   "cell_type": "code",
   "execution_count": 216,
   "metadata": {},
   "outputs": [
    {
     "data": {
      "text/plain": [
       "count   20862.000\n",
       "mean       16.449\n",
       "std         5.895\n",
       "min         0.000\n",
       "25%        15.330\n",
       "50%        17.300\n",
       "75%        18.500\n",
       "max        59.000\n",
       "Name: trip_distance, dtype: float64"
      ]
     },
     "execution_count": 216,
     "metadata": {},
     "output_type": "execute_result"
    }
   ],
   "source": [
    "rc3.trip_distance.describe()"
   ]
  },
  {
   "cell_type": "markdown",
   "metadata": {},
   "source": [
    "## Improvement surcharge"
   ]
  },
  {
   "cell_type": "code",
   "execution_count": 218,
   "metadata": {},
   "outputs": [
    {
     "data": {
      "text/plain": [
       "count   20862.000\n",
       "mean        0.299\n",
       "std         0.026\n",
       "min        -0.300\n",
       "25%         0.300\n",
       "50%         0.300\n",
       "75%         0.300\n",
       "max         0.300\n",
       "Name: improvement_surcharge, dtype: float64"
      ]
     },
     "execution_count": 218,
     "metadata": {},
     "output_type": "execute_result"
    }
   ],
   "source": [
    "rc3[\"improvement_surcharge\"].describe()"
   ]
  },
  {
   "cell_type": "code",
   "execution_count": 219,
   "metadata": {},
   "outputs": [],
   "source": [
    "rc3 = rc3[rc3.improvement_surcharge > 0]"
   ]
  },
  {
   "cell_type": "code",
   "execution_count": 220,
   "metadata": {},
   "outputs": [
    {
     "data": {
      "text/plain": [
       "count   20820.000\n",
       "mean        0.300\n",
       "std         0.000\n",
       "min         0.300\n",
       "25%         0.300\n",
       "50%         0.300\n",
       "75%         0.300\n",
       "max         0.300\n",
       "Name: improvement_surcharge, dtype: float64"
      ]
     },
     "execution_count": 220,
     "metadata": {},
     "output_type": "execute_result"
    }
   ],
   "source": [
    "rc3[\"improvement_surcharge\"].describe()"
   ]
  },
  {
   "cell_type": "markdown",
   "metadata": {},
   "source": [
    "# Tolls amount"
   ]
  },
  {
   "cell_type": "code",
   "execution_count": 221,
   "metadata": {},
   "outputs": [
    {
     "data": {
      "text/plain": [
       "count   20820.000\n",
       "mean       13.227\n",
       "std         7.456\n",
       "min         0.000\n",
       "25%        10.500\n",
       "50%        12.500\n",
       "75%        16.800\n",
       "max       712.510\n",
       "Name: tolls_amount, dtype: float64"
      ]
     },
     "execution_count": 221,
     "metadata": {},
     "output_type": "execute_result"
    }
   ],
   "source": [
    "rc3.tolls_amount.describe()"
   ]
  },
  {
   "cell_type": "code",
   "execution_count": 224,
   "metadata": {},
   "outputs": [
    {
     "data": {
      "text/plain": [
       "37.15602000000021"
      ]
     },
     "execution_count": 224,
     "metadata": {},
     "output_type": "execute_result"
    }
   ],
   "source": [
    "rc3[\"tolls_amount\"].quantile(0.999)"
   ]
  },
  {
   "cell_type": "code",
   "execution_count": 225,
   "metadata": {},
   "outputs": [],
   "source": [
    "rc3 = rc3[rc3.tolls_amount<35]"
   ]
  },
  {
   "cell_type": "code",
   "execution_count": 226,
   "metadata": {},
   "outputs": [
    {
     "data": {
      "text/plain": [
       "count   20792.000\n",
       "mean       13.148\n",
       "std         5.473\n",
       "min         0.000\n",
       "25%        10.500\n",
       "50%        12.500\n",
       "75%        16.800\n",
       "max        34.000\n",
       "Name: tolls_amount, dtype: float64"
      ]
     },
     "execution_count": 226,
     "metadata": {},
     "output_type": "execute_result"
    }
   ],
   "source": [
    "rc3.tolls_amount.describe()"
   ]
  },
  {
   "cell_type": "markdown",
   "metadata": {},
   "source": [
    "## Total amount"
   ]
  },
  {
   "cell_type": "code",
   "execution_count": 227,
   "metadata": {},
   "outputs": [
    {
     "data": {
      "text/plain": [
       "count   20792.000\n",
       "mean       90.284\n",
       "std        24.039\n",
       "min         0.000\n",
       "25%        82.800\n",
       "50%        92.800\n",
       "75%       102.880\n",
       "max       238.800\n",
       "Name: total_amount, dtype: float64"
      ]
     },
     "execution_count": 227,
     "metadata": {},
     "output_type": "execute_result"
    }
   ],
   "source": [
    "rc3.total_amount.describe()"
   ]
  },
  {
   "cell_type": "markdown",
   "metadata": {},
   "source": [
    "These trips seem quite expensive (75%-Quantile) with a max of 238. Keep it as it is."
   ]
  },
  {
   "cell_type": "markdown",
   "metadata": {},
   "source": [
    "# RateCodeID 4"
   ]
  },
  {
   "cell_type": "code",
   "execution_count": 228,
   "metadata": {
    "scrolled": true
   },
   "outputs": [
    {
     "data": {
      "text/plain": [
       "count   5262.000\n",
       "mean      17.332\n",
       "std        9.409\n",
       "min        0.000\n",
       "25%       10.200\n",
       "50%       16.700\n",
       "75%       23.200\n",
       "max       72.140\n",
       "Name: trip_distance, dtype: float64"
      ]
     },
     "execution_count": 228,
     "metadata": {},
     "output_type": "execute_result"
    }
   ],
   "source": [
    "rc4.trip_distance.describe()"
   ]
  },
  {
   "cell_type": "markdown",
   "metadata": {},
   "source": [
    "## Improvement surcharge"
   ]
  },
  {
   "cell_type": "markdown",
   "metadata": {},
   "source": [
    "Keep it"
   ]
  },
  {
   "cell_type": "code",
   "execution_count": 229,
   "metadata": {},
   "outputs": [
    {
     "data": {
      "text/plain": [
       "count   5262.000\n",
       "mean       0.300\n",
       "std        0.009\n",
       "min       -0.300\n",
       "25%        0.300\n",
       "50%        0.300\n",
       "75%        0.300\n",
       "max        0.300\n",
       "Name: improvement_surcharge, dtype: float64"
      ]
     },
     "execution_count": 229,
     "metadata": {},
     "output_type": "execute_result"
    }
   ],
   "source": [
    "rc4.improvement_surcharge.describe()"
   ]
  },
  {
   "cell_type": "code",
   "execution_count": 230,
   "metadata": {},
   "outputs": [
    {
     "data": {
      "text/plain": [
       "count   5260.000\n",
       "mean       0.300\n",
       "std        0.000\n",
       "min        0.300\n",
       "25%        0.300\n",
       "50%        0.300\n",
       "75%        0.300\n",
       "max        0.300\n",
       "Name: improvement_surcharge, dtype: float64"
      ]
     },
     "execution_count": 230,
     "metadata": {},
     "output_type": "execute_result"
    }
   ],
   "source": [
    "rc4 = rc4[rc4.improvement_surcharge>0]\n",
    "rc4.improvement_surcharge.describe()"
   ]
  },
  {
   "cell_type": "markdown",
   "metadata": {},
   "source": [
    "## Tolls amount"
   ]
  },
  {
   "cell_type": "code",
   "execution_count": 231,
   "metadata": {},
   "outputs": [
    {
     "data": {
      "text/plain": [
       "count   5260.000\n",
       "mean       2.041\n",
       "std        4.168\n",
       "min        0.000\n",
       "25%        0.000\n",
       "50%        0.000\n",
       "75%        5.540\n",
       "max       95.200\n",
       "Name: tolls_amount, dtype: float64"
      ]
     },
     "execution_count": 231,
     "metadata": {},
     "output_type": "execute_result"
    }
   ],
   "source": [
    "rc4.tolls_amount.describe()"
   ]
  },
  {
   "cell_type": "code",
   "execution_count": 232,
   "metadata": {},
   "outputs": [
    {
     "data": {
      "text/plain": [
       "16.04"
      ]
     },
     "execution_count": 232,
     "metadata": {},
     "output_type": "execute_result"
    }
   ],
   "source": [
    "rc4[\"tolls_amount\"].quantile(0.99)"
   ]
  },
  {
   "cell_type": "code",
   "execution_count": 233,
   "metadata": {},
   "outputs": [],
   "source": [
    "rc4 = rc4[rc4.improvement_surcharge>0]"
   ]
  },
  {
   "cell_type": "markdown",
   "metadata": {},
   "source": [
    "# Total amount"
   ]
  },
  {
   "cell_type": "code",
   "execution_count": 234,
   "metadata": {},
   "outputs": [
    {
     "data": {
      "text/plain": [
       "count   5240.000\n",
       "mean      75.917\n",
       "std       43.996\n",
       "min        0.800\n",
       "25%       44.760\n",
       "50%       69.325\n",
       "75%       99.875\n",
       "max      410.860\n",
       "Name: total_amount, dtype: float64"
      ]
     },
     "execution_count": 234,
     "metadata": {},
     "output_type": "execute_result"
    }
   ],
   "source": [
    "rc4.total_amount.describe()"
   ]
  },
  {
   "cell_type": "markdown",
   "metadata": {},
   "source": [
    "Keep it"
   ]
  },
  {
   "cell_type": "markdown",
   "metadata": {},
   "source": [
    "# RateCodeID 5"
   ]
  },
  {
   "cell_type": "code",
   "execution_count": 235,
   "metadata": {},
   "outputs": [
    {
     "data": {
      "text/plain": [
       "count   25704.000\n",
       "mean        7.307\n",
       "std        10.569\n",
       "min         0.000\n",
       "25%         0.000\n",
       "50%         0.800\n",
       "75%        12.700\n",
       "max        70.000\n",
       "Name: trip_distance, dtype: float64"
      ]
     },
     "execution_count": 235,
     "metadata": {},
     "output_type": "execute_result"
    }
   ],
   "source": [
    "rc5.trip_distance.describe()"
   ]
  },
  {
   "cell_type": "markdown",
   "metadata": {},
   "source": [
    "We see very often charges like 0.8$ and a max of 70..."
   ]
  },
  {
   "cell_type": "code",
   "execution_count": 240,
   "metadata": {},
   "outputs": [
    {
     "data": {
      "text/plain": [
       "0.100    0.000\n",
       "0.200    0.000\n",
       "0.300    0.000\n",
       "0.400    0.000\n",
       "0.500    0.800\n",
       "0.599    4.810\n",
       "0.699    9.000\n",
       "0.799   15.610\n",
       "0.899   22.400\n",
       "0.999   58.059\n",
       "Name: trip_distance, dtype: float64"
      ]
     },
     "execution_count": 240,
     "metadata": {},
     "output_type": "execute_result"
    }
   ],
   "source": [
    "rc5[\"trip_distance\"].quantile(np.linspace(0.1, 0.999, 10))"
   ]
  },
  {
   "cell_type": "markdown",
   "metadata": {},
   "source": [
    "I would keep them since they are very few and might mean something at ratecode5 (negotiated fare)"
   ]
  },
  {
   "cell_type": "markdown",
   "metadata": {},
   "source": [
    "## Improvement surcharge"
   ]
  },
  {
   "cell_type": "code",
   "execution_count": 241,
   "metadata": {},
   "outputs": [
    {
     "data": {
      "text/plain": [
       "count   25704.000\n",
       "mean        0.295\n",
       "std         0.051\n",
       "min        -0.300\n",
       "25%         0.300\n",
       "50%         0.300\n",
       "75%         0.300\n",
       "max         0.300\n",
       "Name: improvement_surcharge, dtype: float64"
      ]
     },
     "execution_count": 241,
     "metadata": {},
     "output_type": "execute_result"
    }
   ],
   "source": [
    "rc5.improvement_surcharge.describe()"
   ]
  },
  {
   "cell_type": "code",
   "execution_count": 243,
   "metadata": {},
   "outputs": [
    {
     "data": {
      "text/plain": [
       "count   25376.000\n",
       "mean        0.300\n",
       "std         0.000\n",
       "min         0.300\n",
       "25%         0.300\n",
       "50%         0.300\n",
       "75%         0.300\n",
       "max         0.300\n",
       "Name: improvement_surcharge, dtype: float64"
      ]
     },
     "execution_count": 243,
     "metadata": {},
     "output_type": "execute_result"
    }
   ],
   "source": [
    "rc5 = rc5[rc5.improvement_surcharge>0]\n",
    "rc5.improvement_surcharge.describe()"
   ]
  },
  {
   "cell_type": "markdown",
   "metadata": {},
   "source": [
    "## Toll amount"
   ]
  },
  {
   "cell_type": "code",
   "execution_count": 244,
   "metadata": {},
   "outputs": [
    {
     "data": {
      "text/plain": [
       "count   25376.000\n",
       "mean        4.312\n",
       "std         7.494\n",
       "min         0.000\n",
       "25%         0.000\n",
       "50%         0.000\n",
       "75%        10.500\n",
       "max       505.540\n",
       "Name: tolls_amount, dtype: float64"
      ]
     },
     "execution_count": 244,
     "metadata": {},
     "output_type": "execute_result"
    }
   ],
   "source": [
    "rc5[\"tolls_amount\"].describe()"
   ]
  },
  {
   "cell_type": "code",
   "execution_count": 245,
   "metadata": {},
   "outputs": [
    {
     "data": {
      "text/plain": [
       "21.58"
      ]
     },
     "execution_count": 245,
     "metadata": {},
     "output_type": "execute_result"
    }
   ],
   "source": [
    "rc5.tolls_amount.quantile(0.99)"
   ]
  },
  {
   "cell_type": "code",
   "execution_count": 246,
   "metadata": {},
   "outputs": [],
   "source": [
    "rc5 = rc5[rc5.tolls_amount<25]"
   ]
  },
  {
   "cell_type": "code",
   "execution_count": 247,
   "metadata": {},
   "outputs": [
    {
     "data": {
      "text/plain": [
       "count   25239.000\n",
       "mean        4.106\n",
       "std         6.003\n",
       "min         0.000\n",
       "25%         0.000\n",
       "50%         0.000\n",
       "75%        10.500\n",
       "max        24.580\n",
       "Name: tolls_amount, dtype: float64"
      ]
     },
     "execution_count": 247,
     "metadata": {},
     "output_type": "execute_result"
    }
   ],
   "source": [
    "rc5.tolls_amount.describe()"
   ]
  },
  {
   "cell_type": "markdown",
   "metadata": {},
   "source": [
    "## Total amount"
   ]
  },
  {
   "cell_type": "code",
   "execution_count": 248,
   "metadata": {},
   "outputs": [
    {
     "data": {
      "text/plain": [
       "count   25239.000\n",
       "mean       74.635\n",
       "std        64.420\n",
       "min         0.000\n",
       "25%        24.600\n",
       "50%        67.560\n",
       "75%       102.960\n",
       "max      1000.000\n",
       "Name: total_amount, dtype: float64"
      ]
     },
     "execution_count": 248,
     "metadata": {},
     "output_type": "execute_result"
    }
   ],
   "source": [
    "rc5.total_amount.describe()"
   ]
  },
  {
   "cell_type": "code",
   "execution_count": 252,
   "metadata": {},
   "outputs": [
    {
     "data": {
      "text/plain": [
       "277.72259999999875"
      ]
     },
     "execution_count": 252,
     "metadata": {},
     "output_type": "execute_result"
    }
   ],
   "source": [
    "rc5.total_amount.quantile(0.99)"
   ]
  },
  {
   "cell_type": "code",
   "execution_count": 253,
   "metadata": {},
   "outputs": [],
   "source": [
    "rc5 = rc5[rc5.total_amount < 300]"
   ]
  },
  {
   "cell_type": "markdown",
   "metadata": {},
   "source": [
    "# More variables to look at"
   ]
  },
  {
   "cell_type": "code",
   "execution_count": 255,
   "metadata": {},
   "outputs": [
    {
     "data": {
      "text/plain": [
       "Index(['VendorID', 'tpep_pickup_datetime', 'tpep_dropoff_datetime',\n",
       "       'passenger_count', 'trip_distance', 'pickup_longitude',\n",
       "       'pickup_latitude', 'RatecodeID', 'store_and_fwd_flag',\n",
       "       'dropoff_longitude', 'dropoff_latitude', 'payment_type', 'tolls_amount',\n",
       "       'improvement_surcharge', 'total_amount', 'trip_duration',\n",
       "       'average_speed', 'night_trip', 'rush_hour'],\n",
       "      dtype='object')"
      ]
     },
     "execution_count": 255,
     "metadata": {},
     "output_type": "execute_result"
    }
   ],
   "source": [
    "taxi.columns"
   ]
  },
  {
   "cell_type": "code",
   "execution_count": 256,
   "metadata": {},
   "outputs": [
    {
     "data": {
      "text/plain": [
       "count   10940301.000\n",
       "mean          11.478\n",
       "std            6.155\n",
       "min            0.000\n",
       "25%            7.367\n",
       "50%           10.213\n",
       "75%           13.984\n",
       "max           50.000\n",
       "Name: average_speed, dtype: float64"
      ]
     },
     "execution_count": 256,
     "metadata": {},
     "output_type": "execute_result"
    }
   ],
   "source": [
    "taxi.average_speed.describe()"
   ]
  },
  {
   "cell_type": "code",
   "execution_count": 258,
   "metadata": {},
   "outputs": [
    {
     "data": {
      "text/plain": [
       "43.82498358862151"
      ]
     },
     "execution_count": 258,
     "metadata": {},
     "output_type": "execute_result"
    }
   ],
   "source": [
    "taxi.average_speed.quantile(0.999)"
   ]
  },
  {
   "cell_type": "markdown",
   "metadata": {},
   "source": [
    "Don't do anything..."
   ]
  },
  {
   "cell_type": "code",
   "execution_count": 259,
   "metadata": {},
   "outputs": [
    {
     "data": {
      "text/plain": [
       "count   10940301.000\n",
       "mean          14.771\n",
       "std           11.640\n",
       "min            0.017\n",
       "25%            6.883\n",
       "50%           11.567\n",
       "75%           18.967\n",
       "max           90.000\n",
       "Name: trip_duration, dtype: float64"
      ]
     },
     "execution_count": 259,
     "metadata": {},
     "output_type": "execute_result"
    }
   ],
   "source": [
    "taxi[\"trip_duration\"].describe()"
   ]
  },
  {
   "cell_type": "code",
   "execution_count": 266,
   "metadata": {},
   "outputs": [
    {
     "data": {
      "text/plain": [
       "59.4"
      ]
     },
     "execution_count": 266,
     "metadata": {},
     "output_type": "execute_result"
    }
   ],
   "source": [
    "taxi.trip_duration.quantile(0.99)"
   ]
  },
  {
   "cell_type": "markdown",
   "metadata": {},
   "source": [
    "# Put it back together"
   ]
  },
  {
   "cell_type": "code",
   "execution_count": null,
   "metadata": {},
   "outputs": [],
   "source": [
    "taxi.concat([rc1,rc2,rc3,rc4,rc5], axis=0) #rbind"
   ]
  },
  {
   "cell_type": "code",
   "execution_count": null,
   "metadata": {},
   "outputs": [],
   "source": []
  },
  {
   "cell_type": "code",
   "execution_count": null,
   "metadata": {
    "scrolled": true
   },
   "outputs": [],
   "source": []
  },
  {
   "cell_type": "code",
   "execution_count": 1,
   "metadata": {},
   "outputs": [
    {
     "ename": "NameError",
     "evalue": "name 'gc' is not defined",
     "output_type": "error",
     "traceback": [
      "\u001b[1;31m---------------------------------------------------------------------------\u001b[0m",
      "\u001b[1;31mNameError\u001b[0m                                 Traceback (most recent call last)",
      "\u001b[1;32m<ipython-input-1-35e5c8a5ab93>\u001b[0m in \u001b[0;36m<module>\u001b[1;34m()\u001b[0m\n\u001b[1;32m----> 1\u001b[1;33m \u001b[0mgc\u001b[0m\u001b[1;33m.\u001b[0m\u001b[0mcollect\u001b[0m\u001b[1;33m(\u001b[0m\u001b[1;33m)\u001b[0m\u001b[1;33m\u001b[0m\u001b[0m\n\u001b[0m",
      "\u001b[1;31mNameError\u001b[0m: name 'gc' is not defined"
     ]
    }
   ],
   "source": [
    "gc.collect()"
   ]
  },
  {
   "cell_type": "code",
   "execution_count": null,
   "metadata": {},
   "outputs": [],
   "source": []
  },
  {
   "cell_type": "code",
   "execution_count": null,
   "metadata": {},
   "outputs": [],
   "source": []
  },
  {
   "cell_type": "code",
   "execution_count": null,
   "metadata": {},
   "outputs": [],
   "source": []
  },
  {
   "cell_type": "code",
   "execution_count": 2,
   "metadata": {},
   "outputs": [
    {
     "data": {
      "text/plain": [
       "0.01997095894494995"
      ]
     },
     "execution_count": 2,
     "metadata": {},
     "output_type": "execute_result"
    }
   ],
   "source": [
    "(11082242-10860919)/11082242"
   ]
  },
  {
   "cell_type": "code",
   "execution_count": null,
   "metadata": {},
   "outputs": [],
   "source": []
  },
  {
   "cell_type": "code",
   "execution_count": 3,
   "metadata": {
    "scrolled": true
   },
   "outputs": [
    {
     "ename": "NameError",
     "evalue": "name 'gc' is not defined",
     "output_type": "error",
     "traceback": [
      "\u001b[1;31m---------------------------------------------------------------------------\u001b[0m",
      "\u001b[1;31mNameError\u001b[0m                                 Traceback (most recent call last)",
      "\u001b[1;32m<ipython-input-3-35e5c8a5ab93>\u001b[0m in \u001b[0;36m<module>\u001b[1;34m()\u001b[0m\n\u001b[1;32m----> 1\u001b[1;33m \u001b[0mgc\u001b[0m\u001b[1;33m.\u001b[0m\u001b[0mcollect\u001b[0m\u001b[1;33m(\u001b[0m\u001b[1;33m)\u001b[0m\u001b[1;33m\u001b[0m\u001b[0m\n\u001b[0m",
      "\u001b[1;31mNameError\u001b[0m: name 'gc' is not defined"
     ]
    }
   ],
   "source": [
    "gc.collect()"
   ]
  },
  {
   "cell_type": "markdown",
   "metadata": {},
   "source": [
    "# Write out data"
   ]
  },
  {
   "cell_type": "code",
   "execution_count": 291,
   "metadata": {},
   "outputs": [],
   "source": [
    "taxi.to_csv(\"C:/Users/Petro Ck/OneDrive/Task 2/data/train_raw_and_new_features_2.csv\", index_label=\"INDEX\")"
   ]
  }
 ],
 "metadata": {
  "kernelspec": {
   "display_name": "Python 3",
   "language": "python",
   "name": "python3"
  },
  "language_info": {
   "codemirror_mode": {
    "name": "ipython",
    "version": 3
   },
   "file_extension": ".py",
   "mimetype": "text/x-python",
   "name": "python",
   "nbconvert_exporter": "python",
   "pygments_lexer": "ipython3",
   "version": "3.6.5"
  }
 },
 "nbformat": 4,
 "nbformat_minor": 2
}
